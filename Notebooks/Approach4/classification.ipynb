{
 "cells": [
  {
   "cell_type": "code",
   "id": "initial_id",
   "metadata": {
    "collapsed": true,
    "ExecuteTime": {
     "end_time": "2024-04-07T15:22:03.383143Z",
     "start_time": "2024-04-07T15:22:03.234134Z"
    }
   },
   "source": [
    "import pandas as pd\n",
    "import numpy as np\n",
    "from sklearn.model_selection import train_test_split\n",
    "from sklearn.linear_model import LogisticRegression\n",
    "from sklearn.discriminant_analysis import LinearDiscriminantAnalysis\n",
    "from sklearn.neighbors import RadiusNeighborsClassifier\n",
    "from sklearn.tree import DecisionTreeClassifier\n",
    "from sklearn.svm import LinearSVC\n",
    "from sklearn.model_selection import GridSearchCV\n",
    "from sklearn.metrics import accuracy_score\n",
    "from sklearn.metrics import recall_score\n",
    "from sklearn.metrics import precision_score\n",
    "from sklearn.metrics import f1_score"
   ],
   "outputs": [],
   "execution_count": 1
  },
  {
   "cell_type": "code",
   "source": [
    "df = pd.read_csv('/Users/yelderiny/Projects/Dissertation/Data/processed-data3.csv')\n",
    "df.head()"
   ],
   "metadata": {
    "collapsed": false,
    "ExecuteTime": {
     "end_time": "2024-04-07T15:22:03.396353Z",
     "start_time": "2024-04-07T15:22:03.383889Z"
    }
   },
   "id": "36818e1ed06b27cf",
   "outputs": [
    {
     "data": {
      "text/plain": [
       "   pull_requests      size  contributors       age  contributor_xp1  \\\n",
       "0      -0.299689 -0.126432     -0.605191 -1.390139        -0.721174   \n",
       "1      -0.276385 -0.234160     -0.649719 -1.466477        -0.322326   \n",
       "2      -0.254689 -0.124061     -0.320208 -0.155424         0.060942   \n",
       "3      -0.323796 -0.239047     -0.756588 -0.782989        -0.652968   \n",
       "4      -0.311742 -0.194809     -0.551756 -0.751034        -0.753026   \n",
       "\n",
       "   contributor_xp2  contributor_xp3  language_C++  language_Go  language_Java  \\\n",
       "0        -0.710998        -0.684408             0            0              1   \n",
       "1        -0.345167        -0.597730             0            0              1   \n",
       "2         0.036422        -0.041027             0            0              1   \n",
       "3        -0.668599        -0.811847             0            0              1   \n",
       "4        -0.761651        -0.831452             0            0              1   \n",
       "\n",
       "   language_JavaScript  language_Python  language_Swift  language_TypeScript  \\\n",
       "0                    0                0               0                    0   \n",
       "1                    0                0               0                    0   \n",
       "2                    0                0               0                    0   \n",
       "3                    0                0               0                    0   \n",
       "4                    0                0               0                    0   \n",
       "\n",
       "   pr_points1  pr_points2  pr_points3  \n",
       "0       2.271       2.389       2.377  \n",
       "1       3.390       3.318       2.749  \n",
       "2       4.006       3.668       3.544  \n",
       "3       3.281       2.569       3.257  \n",
       "4       4.867       4.833       5.186  "
      ],
      "text/html": [
       "<div>\n",
       "<style scoped>\n",
       "    .dataframe tbody tr th:only-of-type {\n",
       "        vertical-align: middle;\n",
       "    }\n",
       "\n",
       "    .dataframe tbody tr th {\n",
       "        vertical-align: top;\n",
       "    }\n",
       "\n",
       "    .dataframe thead th {\n",
       "        text-align: right;\n",
       "    }\n",
       "</style>\n",
       "<table border=\"1\" class=\"dataframe\">\n",
       "  <thead>\n",
       "    <tr style=\"text-align: right;\">\n",
       "      <th></th>\n",
       "      <th>pull_requests</th>\n",
       "      <th>size</th>\n",
       "      <th>contributors</th>\n",
       "      <th>age</th>\n",
       "      <th>contributor_xp1</th>\n",
       "      <th>contributor_xp2</th>\n",
       "      <th>contributor_xp3</th>\n",
       "      <th>language_C++</th>\n",
       "      <th>language_Go</th>\n",
       "      <th>language_Java</th>\n",
       "      <th>language_JavaScript</th>\n",
       "      <th>language_Python</th>\n",
       "      <th>language_Swift</th>\n",
       "      <th>language_TypeScript</th>\n",
       "      <th>pr_points1</th>\n",
       "      <th>pr_points2</th>\n",
       "      <th>pr_points3</th>\n",
       "    </tr>\n",
       "  </thead>\n",
       "  <tbody>\n",
       "    <tr>\n",
       "      <th>0</th>\n",
       "      <td>-0.299689</td>\n",
       "      <td>-0.126432</td>\n",
       "      <td>-0.605191</td>\n",
       "      <td>-1.390139</td>\n",
       "      <td>-0.721174</td>\n",
       "      <td>-0.710998</td>\n",
       "      <td>-0.684408</td>\n",
       "      <td>0</td>\n",
       "      <td>0</td>\n",
       "      <td>1</td>\n",
       "      <td>0</td>\n",
       "      <td>0</td>\n",
       "      <td>0</td>\n",
       "      <td>0</td>\n",
       "      <td>2.271</td>\n",
       "      <td>2.389</td>\n",
       "      <td>2.377</td>\n",
       "    </tr>\n",
       "    <tr>\n",
       "      <th>1</th>\n",
       "      <td>-0.276385</td>\n",
       "      <td>-0.234160</td>\n",
       "      <td>-0.649719</td>\n",
       "      <td>-1.466477</td>\n",
       "      <td>-0.322326</td>\n",
       "      <td>-0.345167</td>\n",
       "      <td>-0.597730</td>\n",
       "      <td>0</td>\n",
       "      <td>0</td>\n",
       "      <td>1</td>\n",
       "      <td>0</td>\n",
       "      <td>0</td>\n",
       "      <td>0</td>\n",
       "      <td>0</td>\n",
       "      <td>3.390</td>\n",
       "      <td>3.318</td>\n",
       "      <td>2.749</td>\n",
       "    </tr>\n",
       "    <tr>\n",
       "      <th>2</th>\n",
       "      <td>-0.254689</td>\n",
       "      <td>-0.124061</td>\n",
       "      <td>-0.320208</td>\n",
       "      <td>-0.155424</td>\n",
       "      <td>0.060942</td>\n",
       "      <td>0.036422</td>\n",
       "      <td>-0.041027</td>\n",
       "      <td>0</td>\n",
       "      <td>0</td>\n",
       "      <td>1</td>\n",
       "      <td>0</td>\n",
       "      <td>0</td>\n",
       "      <td>0</td>\n",
       "      <td>0</td>\n",
       "      <td>4.006</td>\n",
       "      <td>3.668</td>\n",
       "      <td>3.544</td>\n",
       "    </tr>\n",
       "    <tr>\n",
       "      <th>3</th>\n",
       "      <td>-0.323796</td>\n",
       "      <td>-0.239047</td>\n",
       "      <td>-0.756588</td>\n",
       "      <td>-0.782989</td>\n",
       "      <td>-0.652968</td>\n",
       "      <td>-0.668599</td>\n",
       "      <td>-0.811847</td>\n",
       "      <td>0</td>\n",
       "      <td>0</td>\n",
       "      <td>1</td>\n",
       "      <td>0</td>\n",
       "      <td>0</td>\n",
       "      <td>0</td>\n",
       "      <td>0</td>\n",
       "      <td>3.281</td>\n",
       "      <td>2.569</td>\n",
       "      <td>3.257</td>\n",
       "    </tr>\n",
       "    <tr>\n",
       "      <th>4</th>\n",
       "      <td>-0.311742</td>\n",
       "      <td>-0.194809</td>\n",
       "      <td>-0.551756</td>\n",
       "      <td>-0.751034</td>\n",
       "      <td>-0.753026</td>\n",
       "      <td>-0.761651</td>\n",
       "      <td>-0.831452</td>\n",
       "      <td>0</td>\n",
       "      <td>0</td>\n",
       "      <td>1</td>\n",
       "      <td>0</td>\n",
       "      <td>0</td>\n",
       "      <td>0</td>\n",
       "      <td>0</td>\n",
       "      <td>4.867</td>\n",
       "      <td>4.833</td>\n",
       "      <td>5.186</td>\n",
       "    </tr>\n",
       "  </tbody>\n",
       "</table>\n",
       "</div>"
      ]
     },
     "execution_count": 2,
     "metadata": {},
     "output_type": "execute_result"
    }
   ],
   "execution_count": 2
  },
  {
   "cell_type": "code",
   "source": [
    "num_bins = int(np.ceil(np.log2(len(df['pr_points1'])) + 1))\n",
    "print(num_bins)"
   ],
   "metadata": {
    "collapsed": false,
    "ExecuteTime": {
     "end_time": "2024-04-07T15:22:03.399578Z",
     "start_time": "2024-04-07T15:22:03.396973Z"
    }
   },
   "id": "1158b8478db7dd15",
   "outputs": [
    {
     "name": "stdout",
     "output_type": "stream",
     "text": [
      "12\n"
     ]
    }
   ],
   "execution_count": 3
  },
  {
   "cell_type": "code",
   "source": [
    "# Sturges' Rule \n",
    "df['pr_points_bucket'], bins = pd.cut(df['pr_points1'], bins=num_bins, retbins=True, labels=False)\n",
    "print(bins)"
   ],
   "metadata": {
    "collapsed": false,
    "ExecuteTime": {
     "end_time": "2024-04-07T15:22:03.404128Z",
     "start_time": "2024-04-07T15:22:03.400497Z"
    }
   },
   "id": "a817427f80b77dc2",
   "outputs": [
    {
     "name": "stdout",
     "output_type": "stream",
     "text": [
      "[ 0.926841    7.09658333 13.19316667 19.28975    25.38633333 31.48291667\n",
      " 37.5795     43.67608333 49.77266667 55.86925    61.96583333 68.06241667\n",
      " 74.159     ]\n"
     ]
    }
   ],
   "execution_count": 4
  },
  {
   "cell_type": "code",
   "source": [
    "features = df.drop(columns=['pr_points1', 'pr_points2', 'pr_points3', 'contributor_xp1', 'contributor_xp3', 'pr_points_bucket'], axis=1)\n",
    "target = df['pr_points_bucket']"
   ],
   "metadata": {
    "collapsed": false,
    "ExecuteTime": {
     "end_time": "2024-04-07T15:22:03.407574Z",
     "start_time": "2024-04-07T15:22:03.404805Z"
    }
   },
   "id": "202f072e53a9cf2e",
   "outputs": [],
   "execution_count": 5
  },
  {
   "cell_type": "code",
   "source": [
    "results = {}"
   ],
   "metadata": {
    "collapsed": false,
    "ExecuteTime": {
     "end_time": "2024-04-07T15:22:03.410801Z",
     "start_time": "2024-04-07T15:22:03.408451Z"
    }
   },
   "id": "b276748333c00b9c",
   "outputs": [],
   "execution_count": 6
  },
  {
   "cell_type": "code",
   "source": [
    "def summarize_classification(y_test, y_pred):\n",
    "    acc = accuracy_score(y_test, y_pred, normalize=True)  # As a fraction\n",
    "    num_acc = accuracy_score(y_test, y_pred, normalize=False)  # As a count\n",
    "    prec = precision_score(y_test, y_pred, average='weighted', zero_division=0)\n",
    "    recall = recall_score(y_test, y_pred, average='weighted', zero_division=0)\n",
    "    f1 = f1_score(y_test, y_pred, average='weighted', zero_division=0)\n",
    "    \n",
    "    return {'accuracy': acc, 'precision': prec, 'recall': recall, 'f1': f1, 'accuracy_count': num_acc}"
   ],
   "metadata": {
    "collapsed": false,
    "ExecuteTime": {
     "end_time": "2024-04-07T15:22:03.414499Z",
     "start_time": "2024-04-07T15:22:03.411893Z"
    }
   },
   "id": "7cf670b31a068757",
   "outputs": [],
   "execution_count": 7
  },
  {
   "cell_type": "code",
   "source": [
    "def build_model(classifier_fn, name_of_y_col, name_of_x_cols, dataset, test_frac=0.2):\n",
    "    x_train, x_test, y_train, y_test = train_test_split(dataset[name_of_x_cols], dataset[name_of_y_col], test_size=test_frac, random_state=557)\n",
    "        \n",
    "    model = classifier_fn(x_train, y_train)\n",
    "    \n",
    "    y_pred_train, y_pred = model.predict(x_train), model.predict(x_test)\n",
    "    \n",
    "    train_summary, test_summary = summarize_classification(y_train, y_pred_train), summarize_classification(y_test, y_pred)\n",
    "    \n",
    "    model_crosstab = pd.crosstab(pd.DataFrame({'y_test': y_test, 'y_pred': y_pred}).y_pred, y_test)\n",
    "    \n",
    "    return {'test': test_summary, 'confusion_matrix': model_crosstab}"
   ],
   "metadata": {
    "collapsed": false,
    "ExecuteTime": {
     "end_time": "2024-04-07T15:22:03.419996Z",
     "start_time": "2024-04-07T15:22:03.417353Z"
    }
   },
   "id": "47683e0902b92958",
   "outputs": [],
   "execution_count": 8
  },
  {
   "cell_type": "code",
   "source": [
    "def compare_results():\n",
    "    for key in results:\n",
    "        print('Classification: ', key)\n",
    "        \n",
    "        # print()\n",
    "        # print('Training data')\n",
    "        # for score in results[key]['training']:\n",
    "        #     print(score, results[key]['training'][score])\n",
    "            \n",
    "        print()\n",
    "        print('Test data')\n",
    "        for score in results[key]['test']:\n",
    "            print(score, results[key]['test'][score])\n",
    "        \n",
    "        print()"
   ],
   "metadata": {
    "collapsed": false,
    "ExecuteTime": {
     "end_time": "2024-04-07T15:22:03.422947Z",
     "start_time": "2024-04-07T15:22:03.420704Z"
    }
   },
   "id": "d84365177fb69b6e",
   "outputs": [],
   "execution_count": 9
  },
  {
   "cell_type": "code",
   "source": [
    "def logistic_fn(x_train, y_train):\n",
    "    model = LogisticRegression(penalty='l2', C=1.0, solver='liblinear')\n",
    "    model.fit(x_train, y_train)\n",
    "    \n",
    "    return model"
   ],
   "metadata": {
    "collapsed": false,
    "ExecuteTime": {
     "end_time": "2024-04-07T15:22:03.426058Z",
     "start_time": "2024-04-07T15:22:03.423784Z"
    }
   },
   "id": "1870809a31ed51df",
   "outputs": [],
   "execution_count": 10
  },
  {
   "cell_type": "code",
   "source": [
    "def linear_discriminant_fn(x_train, y_train, solver='svd'):\n",
    "    model = LinearDiscriminantAnalysis(solver=solver)\n",
    "    model.fit(x_train, y_train)\n",
    "    \n",
    "    return model"
   ],
   "metadata": {
    "collapsed": false,
    "ExecuteTime": {
     "end_time": "2024-04-07T15:22:03.428713Z",
     "start_time": "2024-04-07T15:22:03.426619Z"
    }
   },
   "id": "3b7272df01b06154",
   "outputs": [],
   "execution_count": 11
  },
  {
   "cell_type": "code",
   "source": [
    "def linear_svc_fn(x_train, y_train, C=1.0, max_iter=10000, tol=1e-3):\n",
    "    model = LinearSVC(C=C, max_iter=max_iter, tol=tol, dual=False)\n",
    "    model.fit(x_train, y_train)\n",
    "    \n",
    "    return model"
   ],
   "metadata": {
    "collapsed": false,
    "ExecuteTime": {
     "end_time": "2024-04-07T15:22:03.431302Z",
     "start_time": "2024-04-07T15:22:03.429307Z"
    }
   },
   "id": "a64a7741cf3f4535",
   "outputs": [],
   "execution_count": 12
  },
  {
   "cell_type": "code",
   "source": [
    "def radius_neighbors_fn(x_train, y_train, radius=40.0):\n",
    "    model = RadiusNeighborsClassifier(radius=radius)\n",
    "    model.fit(x_train, y_train)\n",
    "    \n",
    "    return model"
   ],
   "metadata": {
    "collapsed": false,
    "ExecuteTime": {
     "end_time": "2024-04-07T15:22:03.433679Z",
     "start_time": "2024-04-07T15:22:03.431941Z"
    }
   },
   "id": "4f5bc31e44f0ead6",
   "outputs": [],
   "execution_count": 13
  },
  {
   "cell_type": "code",
   "source": [
    "def decision_tree_fn(x_train, y_train, max_depth=5, max_features=None):\n",
    "    model = DecisionTreeClassifier(max_depth=max_depth, max_features=max_features, min_samples_leaf=4, min_samples_split=2, criterion='entropy')\n",
    "    model.fit(x_train, y_train)\n",
    "    \n",
    "    return model"
   ],
   "metadata": {
    "collapsed": false,
    "ExecuteTime": {
     "end_time": "2024-04-07T15:22:03.437592Z",
     "start_time": "2024-04-07T15:22:03.434695Z"
    }
   },
   "id": "c991d69a5a371ead",
   "outputs": [],
   "execution_count": 14
  },
  {
   "cell_type": "code",
   "source": [
    "results['logistic'] = build_model(logistic_fn, 'pr_points_bucket', features.columns, df)\n",
    "results['lda'] = build_model(linear_discriminant_fn, 'pr_points_bucket', features.columns, df)\n",
    "results['svm'] = build_model(linear_svc_fn, 'pr_points_bucket', features.columns, df)\n",
    "results['radius_neighbors'] = build_model(radius_neighbors_fn, 'pr_points_bucket', features.columns, df)\n",
    "results['decision_tree'] = build_model(decision_tree_fn, 'pr_points_bucket', features.columns, df)\n",
    "\n",
    "compare_results()"
   ],
   "metadata": {
    "collapsed": false,
    "ExecuteTime": {
     "end_time": "2024-04-07T15:22:03.570257Z",
     "start_time": "2024-04-07T15:22:03.438705Z"
    }
   },
   "id": "13228d51acb9c2d7",
   "outputs": [
    {
     "name": "stdout",
     "output_type": "stream",
     "text": [
      "Classification:  logistic\n",
      "\n",
      "Test data\n",
      "accuracy 0.7444168734491315\n",
      "precision 0.6659866560820672\n",
      "recall 0.7444168734491315\n",
      "f1 0.6871074050380578\n",
      "accuracy_count 300.0\n",
      "\n",
      "Classification:  lda\n",
      "\n",
      "Test data\n",
      "accuracy 0.7146401985111662\n",
      "precision 0.6623592967339037\n",
      "recall 0.7146401985111662\n",
      "f1 0.6639221105003279\n",
      "accuracy_count 288.0\n",
      "\n",
      "Classification:  svm\n",
      "\n",
      "Test data\n",
      "accuracy 0.7344913151364765\n",
      "precision 0.644316187788621\n",
      "recall 0.7344913151364765\n",
      "f1 0.6699584823572743\n",
      "accuracy_count 296.0\n",
      "\n",
      "Classification:  radius_neighbors\n",
      "\n",
      "Test data\n",
      "accuracy 0.7096774193548387\n",
      "precision 0.5036420395421436\n",
      "recall 0.7096774193548387\n",
      "f1 0.5891661594643944\n",
      "accuracy_count 286.0\n",
      "\n",
      "Classification:  decision_tree\n",
      "\n",
      "Test data\n",
      "accuracy 0.7369727047146402\n",
      "precision 0.7025396228360373\n",
      "recall 0.7369727047146402\n",
      "f1 0.7178712285146931\n",
      "accuracy_count 297.0\n",
      "\n"
     ]
    }
   ],
   "execution_count": 15
  },
  {
   "cell_type": "code",
   "source": [
    "x_train, x_test, y_train, y_test = train_test_split(features, target, test_size=0.2, random_state=557)\n",
    "\n",
    "param_grid = {\n",
    "    'criterion': ['gini', 'entropy'],\n",
    "    'max_depth': [None, 5, 10, 15],\n",
    "    'min_samples_split': [2, 5, 10],\n",
    "    'min_samples_leaf': [1, 2, 4]\n",
    "}\n",
    "grid_search = GridSearchCV(DecisionTreeClassifier(), param_grid, cv=3, return_train_score=True)\n",
    "grid_search.fit(x_train, y_train)\n",
    "\n",
    "grid_search.best_params_"
   ],
   "metadata": {
    "collapsed": false,
    "ExecuteTime": {
     "end_time": "2024-04-07T15:22:04.720314Z",
     "start_time": "2024-04-07T15:22:03.571002Z"
    }
   },
   "id": "b8b3b944afcc5cad",
   "outputs": [
    {
     "name": "stderr",
     "output_type": "stream",
     "text": [
      "/Library/Frameworks/Python.framework/Versions/3.12/lib/python3.12/site-packages/sklearn/model_selection/_split.py:737: UserWarning: The least populated class in y has only 1 members, which is less than n_splits=3.\n",
      "  warnings.warn(\n"
     ]
    },
    {
     "data": {
      "text/plain": [
       "{'criterion': 'gini',\n",
       " 'max_depth': 5,\n",
       " 'min_samples_leaf': 2,\n",
       " 'min_samples_split': 10}"
      ]
     },
     "execution_count": 16,
     "metadata": {},
     "output_type": "execute_result"
    }
   ],
   "execution_count": 16
  },
  {
   "cell_type": "code",
   "source": [],
   "metadata": {
    "collapsed": false,
    "ExecuteTime": {
     "end_time": "2024-04-07T15:22:04.722309Z",
     "start_time": "2024-04-07T15:22:04.721052Z"
    }
   },
   "id": "1c38e3f7053f3d50",
   "outputs": [],
   "execution_count": 16
  }
 ],
 "metadata": {
  "kernelspec": {
   "display_name": "Python 3",
   "language": "python",
   "name": "python3"
  },
  "language_info": {
   "codemirror_mode": {
    "name": "ipython",
    "version": 2
   },
   "file_extension": ".py",
   "mimetype": "text/x-python",
   "name": "python",
   "nbconvert_exporter": "python",
   "pygments_lexer": "ipython2",
   "version": "2.7.6"
  }
 },
 "nbformat": 4,
 "nbformat_minor": 5
}
