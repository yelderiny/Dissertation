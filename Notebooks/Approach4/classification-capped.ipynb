{
 "cells": [
  {
   "cell_type": "code",
   "id": "initial_id",
   "metadata": {
    "collapsed": true,
    "ExecuteTime": {
     "end_time": "2024-04-07T19:50:36.677288Z",
     "start_time": "2024-04-07T19:50:35.745770Z"
    }
   },
   "source": [
    "import pandas as pd\n",
    "import numpy as np\n",
    "from sklearn.model_selection import train_test_split\n",
    "from sklearn.linear_model import LogisticRegression\n",
    "from sklearn.discriminant_analysis import LinearDiscriminantAnalysis\n",
    "from sklearn.neighbors import RadiusNeighborsClassifier\n",
    "from sklearn.tree import DecisionTreeClassifier\n",
    "from sklearn.svm import LinearSVC\n",
    "from sklearn.model_selection import GridSearchCV\n",
    "from sklearn.metrics import accuracy_score\n",
    "from sklearn.metrics import recall_score\n",
    "from sklearn.metrics import precision_score\n",
    "from sklearn.metrics import f1_score"
   ],
   "outputs": [],
   "execution_count": 1
  },
  {
   "cell_type": "code",
   "source": [
    "df = pd.read_csv('/Users/yelderiny/Projects/Dissertation/Data/processed-data3-outliers-capped.csv')\n",
    "df.head()"
   ],
   "metadata": {
    "collapsed": false,
    "ExecuteTime": {
     "end_time": "2024-04-07T19:50:36.693632Z",
     "start_time": "2024-04-07T19:50:36.678795Z"
    }
   },
   "id": "36818e1ed06b27cf",
   "outputs": [
    {
     "data": {
      "text/plain": [
       "   pull_requests      size  contributors       age  contributor_xp1  \\\n",
       "0      -0.441351 -0.155899     -0.607450 -1.390139        -0.760476   \n",
       "1      -0.400284 -0.376812     -0.652329 -1.466477        -0.328626   \n",
       "2      -0.362050 -0.151038     -0.320222 -0.155424         0.086355   \n",
       "3      -0.483834 -0.386834     -0.760040 -0.782989        -0.686626   \n",
       "4      -0.462592 -0.296117     -0.553595 -0.751034        -0.794964   \n",
       "\n",
       "   contributor_xp2  contributor_xp3  language_C++  language_Go  language_Java  \\\n",
       "0        -0.749159        -0.714005             0            0              1   \n",
       "1        -0.353298        -0.621405             0            0              1   \n",
       "2         0.059615        -0.026675             0            0              1   \n",
       "3        -0.703280        -0.850148             0            0              1   \n",
       "4        -0.803970        -0.871093             0            0              1   \n",
       "\n",
       "   language_JavaScript  language_Python  language_Swift  language_TypeScript  \\\n",
       "0                    0                0               0                    0   \n",
       "1                    0                0               0                    0   \n",
       "2                    0                0               0                    0   \n",
       "3                    0                0               0                    0   \n",
       "4                    0                0               0                    0   \n",
       "\n",
       "   pr_points1  pr_points2  pr_points3  \n",
       "0       2.271       2.389       2.377  \n",
       "1       3.390       3.318       2.749  \n",
       "2       4.006       3.668       3.544  \n",
       "3       3.281       2.569       3.257  \n",
       "4       4.867       4.833       5.186  "
      ],
      "text/html": [
       "<div>\n",
       "<style scoped>\n",
       "    .dataframe tbody tr th:only-of-type {\n",
       "        vertical-align: middle;\n",
       "    }\n",
       "\n",
       "    .dataframe tbody tr th {\n",
       "        vertical-align: top;\n",
       "    }\n",
       "\n",
       "    .dataframe thead th {\n",
       "        text-align: right;\n",
       "    }\n",
       "</style>\n",
       "<table border=\"1\" class=\"dataframe\">\n",
       "  <thead>\n",
       "    <tr style=\"text-align: right;\">\n",
       "      <th></th>\n",
       "      <th>pull_requests</th>\n",
       "      <th>size</th>\n",
       "      <th>contributors</th>\n",
       "      <th>age</th>\n",
       "      <th>contributor_xp1</th>\n",
       "      <th>contributor_xp2</th>\n",
       "      <th>contributor_xp3</th>\n",
       "      <th>language_C++</th>\n",
       "      <th>language_Go</th>\n",
       "      <th>language_Java</th>\n",
       "      <th>language_JavaScript</th>\n",
       "      <th>language_Python</th>\n",
       "      <th>language_Swift</th>\n",
       "      <th>language_TypeScript</th>\n",
       "      <th>pr_points1</th>\n",
       "      <th>pr_points2</th>\n",
       "      <th>pr_points3</th>\n",
       "    </tr>\n",
       "  </thead>\n",
       "  <tbody>\n",
       "    <tr>\n",
       "      <th>0</th>\n",
       "      <td>-0.441351</td>\n",
       "      <td>-0.155899</td>\n",
       "      <td>-0.607450</td>\n",
       "      <td>-1.390139</td>\n",
       "      <td>-0.760476</td>\n",
       "      <td>-0.749159</td>\n",
       "      <td>-0.714005</td>\n",
       "      <td>0</td>\n",
       "      <td>0</td>\n",
       "      <td>1</td>\n",
       "      <td>0</td>\n",
       "      <td>0</td>\n",
       "      <td>0</td>\n",
       "      <td>0</td>\n",
       "      <td>2.271</td>\n",
       "      <td>2.389</td>\n",
       "      <td>2.377</td>\n",
       "    </tr>\n",
       "    <tr>\n",
       "      <th>1</th>\n",
       "      <td>-0.400284</td>\n",
       "      <td>-0.376812</td>\n",
       "      <td>-0.652329</td>\n",
       "      <td>-1.466477</td>\n",
       "      <td>-0.328626</td>\n",
       "      <td>-0.353298</td>\n",
       "      <td>-0.621405</td>\n",
       "      <td>0</td>\n",
       "      <td>0</td>\n",
       "      <td>1</td>\n",
       "      <td>0</td>\n",
       "      <td>0</td>\n",
       "      <td>0</td>\n",
       "      <td>0</td>\n",
       "      <td>3.390</td>\n",
       "      <td>3.318</td>\n",
       "      <td>2.749</td>\n",
       "    </tr>\n",
       "    <tr>\n",
       "      <th>2</th>\n",
       "      <td>-0.362050</td>\n",
       "      <td>-0.151038</td>\n",
       "      <td>-0.320222</td>\n",
       "      <td>-0.155424</td>\n",
       "      <td>0.086355</td>\n",
       "      <td>0.059615</td>\n",
       "      <td>-0.026675</td>\n",
       "      <td>0</td>\n",
       "      <td>0</td>\n",
       "      <td>1</td>\n",
       "      <td>0</td>\n",
       "      <td>0</td>\n",
       "      <td>0</td>\n",
       "      <td>0</td>\n",
       "      <td>4.006</td>\n",
       "      <td>3.668</td>\n",
       "      <td>3.544</td>\n",
       "    </tr>\n",
       "    <tr>\n",
       "      <th>3</th>\n",
       "      <td>-0.483834</td>\n",
       "      <td>-0.386834</td>\n",
       "      <td>-0.760040</td>\n",
       "      <td>-0.782989</td>\n",
       "      <td>-0.686626</td>\n",
       "      <td>-0.703280</td>\n",
       "      <td>-0.850148</td>\n",
       "      <td>0</td>\n",
       "      <td>0</td>\n",
       "      <td>1</td>\n",
       "      <td>0</td>\n",
       "      <td>0</td>\n",
       "      <td>0</td>\n",
       "      <td>0</td>\n",
       "      <td>3.281</td>\n",
       "      <td>2.569</td>\n",
       "      <td>3.257</td>\n",
       "    </tr>\n",
       "    <tr>\n",
       "      <th>4</th>\n",
       "      <td>-0.462592</td>\n",
       "      <td>-0.296117</td>\n",
       "      <td>-0.553595</td>\n",
       "      <td>-0.751034</td>\n",
       "      <td>-0.794964</td>\n",
       "      <td>-0.803970</td>\n",
       "      <td>-0.871093</td>\n",
       "      <td>0</td>\n",
       "      <td>0</td>\n",
       "      <td>1</td>\n",
       "      <td>0</td>\n",
       "      <td>0</td>\n",
       "      <td>0</td>\n",
       "      <td>0</td>\n",
       "      <td>4.867</td>\n",
       "      <td>4.833</td>\n",
       "      <td>5.186</td>\n",
       "    </tr>\n",
       "  </tbody>\n",
       "</table>\n",
       "</div>"
      ]
     },
     "execution_count": 2,
     "metadata": {},
     "output_type": "execute_result"
    }
   ],
   "execution_count": 2
  },
  {
   "cell_type": "code",
   "source": [
    "num_bins = int(np.ceil(np.log2(len(df['pr_points1'])) + 1))\n",
    "print(num_bins)"
   ],
   "metadata": {
    "collapsed": false,
    "ExecuteTime": {
     "end_time": "2024-04-07T19:50:36.697217Z",
     "start_time": "2024-04-07T19:50:36.694590Z"
    }
   },
   "id": "1158b8478db7dd15",
   "outputs": [
    {
     "name": "stdout",
     "output_type": "stream",
     "text": [
      "12\n"
     ]
    }
   ],
   "execution_count": 3
  },
  {
   "cell_type": "code",
   "source": [
    "# Sturges' Rule \n",
    "df['pr_points_bucket'], bins = pd.cut(df['pr_points1'], bins=num_bins, retbins=True, labels=False)\n",
    "print(bins)"
   ],
   "metadata": {
    "collapsed": false,
    "ExecuteTime": {
     "end_time": "2024-04-07T19:50:36.702124Z",
     "start_time": "2024-04-07T19:50:36.698023Z"
    }
   },
   "id": "a817427f80b77dc2",
   "outputs": [
    {
     "name": "stdout",
     "output_type": "stream",
     "text": [
      "[ 0.97474367  3.10469385  5.2093877   7.31408155  9.41877541 11.52346926\n",
      " 13.62816311 15.73285696 17.83755081 19.94224466 22.04693851 24.15163236\n",
      " 26.25632622]\n"
     ]
    }
   ],
   "execution_count": 4
  },
  {
   "cell_type": "code",
   "source": [
    "features = df.drop(columns=['pr_points1', 'pr_points2', 'pr_points3', 'contributor_xp1', 'contributor_xp3', 'pr_points_bucket'], axis=1)\n",
    "target = df['pr_points_bucket']"
   ],
   "metadata": {
    "collapsed": false,
    "ExecuteTime": {
     "end_time": "2024-04-07T19:50:36.707137Z",
     "start_time": "2024-04-07T19:50:36.704069Z"
    }
   },
   "id": "202f072e53a9cf2e",
   "outputs": [],
   "execution_count": 5
  },
  {
   "cell_type": "code",
   "source": [
    "results = {}"
   ],
   "metadata": {
    "collapsed": false,
    "ExecuteTime": {
     "end_time": "2024-04-07T19:50:36.709867Z",
     "start_time": "2024-04-07T19:50:36.707894Z"
    }
   },
   "id": "b276748333c00b9c",
   "outputs": [],
   "execution_count": 6
  },
  {
   "cell_type": "code",
   "source": [
    "def summarize_classification(y_test, y_pred):\n",
    "    acc = accuracy_score(y_test, y_pred, normalize=True)  # As a fraction\n",
    "    num_acc = accuracy_score(y_test, y_pred, normalize=False)  # As a count\n",
    "    prec = precision_score(y_test, y_pred, average='weighted', zero_division=0)\n",
    "    recall = recall_score(y_test, y_pred, average='weighted', zero_division=0)\n",
    "    f1 = f1_score(y_test, y_pred, average='weighted', zero_division=0)\n",
    "    \n",
    "    return {'accuracy': acc, 'precision': prec, 'recall': recall, 'f1': f1, 'accuracy_count': num_acc}"
   ],
   "metadata": {
    "collapsed": false,
    "ExecuteTime": {
     "end_time": "2024-04-07T19:50:36.713134Z",
     "start_time": "2024-04-07T19:50:36.710826Z"
    }
   },
   "id": "7cf670b31a068757",
   "outputs": [],
   "execution_count": 7
  },
  {
   "cell_type": "code",
   "source": [
    "def build_model(classifier_fn, name_of_y_col, name_of_x_cols, dataset, test_frac=0.2):\n",
    "    x_train, x_test, y_train, y_test = train_test_split(dataset[name_of_x_cols], dataset[name_of_y_col], test_size=test_frac, random_state=557)\n",
    "        \n",
    "    model = classifier_fn(x_train, y_train)\n",
    "    \n",
    "    y_pred_train, y_pred = model.predict(x_train), model.predict(x_test)\n",
    "    \n",
    "    train_summary, test_summary = summarize_classification(y_train, y_pred_train), summarize_classification(y_test, y_pred)\n",
    "    \n",
    "    model_crosstab = pd.crosstab(pd.DataFrame({'y_test': y_test, 'y_pred': y_pred}).y_pred, y_test)\n",
    "    \n",
    "    return {'test': test_summary, 'confusion_matrix': model_crosstab}"
   ],
   "metadata": {
    "collapsed": false,
    "ExecuteTime": {
     "end_time": "2024-04-07T19:50:36.716168Z",
     "start_time": "2024-04-07T19:50:36.713847Z"
    }
   },
   "id": "47683e0902b92958",
   "outputs": [],
   "execution_count": 8
  },
  {
   "cell_type": "code",
   "source": [
    "def compare_results():\n",
    "    for key in results:\n",
    "        print('Classification: ', key)\n",
    "        \n",
    "        # print()\n",
    "        # print('Training data')\n",
    "        # for score in results[key]['training']:\n",
    "        #     print(score, results[key]['training'][score])\n",
    "            \n",
    "        print()\n",
    "        print('Test data')\n",
    "        for score in results[key]['test']:\n",
    "            print(score, results[key]['test'][score])\n",
    "        \n",
    "        print()"
   ],
   "metadata": {
    "collapsed": false,
    "ExecuteTime": {
     "end_time": "2024-04-07T19:50:36.718933Z",
     "start_time": "2024-04-07T19:50:36.716771Z"
    }
   },
   "id": "d84365177fb69b6e",
   "outputs": [],
   "execution_count": 9
  },
  {
   "cell_type": "code",
   "source": [
    "def logistic_fn(x_train, y_train):\n",
    "    model = LogisticRegression(penalty='l2', C=1.0, solver='liblinear')\n",
    "    model.fit(x_train, y_train)\n",
    "    \n",
    "    return model"
   ],
   "metadata": {
    "collapsed": false,
    "ExecuteTime": {
     "end_time": "2024-04-07T19:50:36.721910Z",
     "start_time": "2024-04-07T19:50:36.719596Z"
    }
   },
   "id": "1870809a31ed51df",
   "outputs": [],
   "execution_count": 10
  },
  {
   "cell_type": "code",
   "source": [
    "def linear_discriminant_fn(x_train, y_train, solver='svd'):\n",
    "    model = LinearDiscriminantAnalysis(solver=solver)\n",
    "    model.fit(x_train, y_train)\n",
    "    \n",
    "    return model"
   ],
   "metadata": {
    "collapsed": false,
    "ExecuteTime": {
     "end_time": "2024-04-07T19:50:36.725121Z",
     "start_time": "2024-04-07T19:50:36.722713Z"
    }
   },
   "id": "3b7272df01b06154",
   "outputs": [],
   "execution_count": 11
  },
  {
   "cell_type": "code",
   "source": [
    "def linear_svc_fn(x_train, y_train, C=1.0, max_iter=10000, tol=1e-3):\n",
    "    model = LinearSVC(C=C, max_iter=max_iter, tol=tol, dual=False)\n",
    "    model.fit(x_train, y_train)\n",
    "    \n",
    "    return model"
   ],
   "metadata": {
    "collapsed": false,
    "ExecuteTime": {
     "end_time": "2024-04-07T19:50:36.728332Z",
     "start_time": "2024-04-07T19:50:36.725808Z"
    }
   },
   "id": "a64a7741cf3f4535",
   "outputs": [],
   "execution_count": 12
  },
  {
   "cell_type": "code",
   "source": [
    "def radius_neighbors_fn(x_train, y_train, radius=40.0):\n",
    "    model = RadiusNeighborsClassifier(radius=radius)\n",
    "    model.fit(x_train, y_train)\n",
    "    \n",
    "    return model"
   ],
   "metadata": {
    "collapsed": false,
    "ExecuteTime": {
     "end_time": "2024-04-07T19:50:36.732031Z",
     "start_time": "2024-04-07T19:50:36.729848Z"
    }
   },
   "id": "4f5bc31e44f0ead6",
   "outputs": [],
   "execution_count": 13
  },
  {
   "cell_type": "code",
   "source": [
    "def decision_tree_fn(x_train, y_train, max_depth=5, max_features=None):\n",
    "    model = DecisionTreeClassifier(max_depth=max_depth, max_features=max_features, min_samples_leaf=4, min_samples_split=2, criterion='entropy')\n",
    "    model.fit(x_train, y_train)\n",
    "    \n",
    "    return model"
   ],
   "metadata": {
    "collapsed": false,
    "ExecuteTime": {
     "end_time": "2024-04-07T19:50:36.737199Z",
     "start_time": "2024-04-07T19:50:36.735146Z"
    }
   },
   "id": "c991d69a5a371ead",
   "outputs": [],
   "execution_count": 14
  },
  {
   "cell_type": "code",
   "source": [
    "results['logistic'] = build_model(logistic_fn, 'pr_points_bucket', features.columns, df)\n",
    "results['lda'] = build_model(linear_discriminant_fn, 'pr_points_bucket', features.columns, df)\n",
    "results['svm'] = build_model(linear_svc_fn, 'pr_points_bucket', features.columns, df)\n",
    "results['radius_neighbors'] = build_model(radius_neighbors_fn, 'pr_points_bucket', features.columns, df)\n",
    "results['decision_tree'] = build_model(decision_tree_fn, 'pr_points_bucket', features.columns, df)\n",
    "\n",
    "compare_results()"
   ],
   "metadata": {
    "collapsed": false,
    "ExecuteTime": {
     "end_time": "2024-04-07T19:50:36.886386Z",
     "start_time": "2024-04-07T19:50:36.737888Z"
    }
   },
   "id": "13228d51acb9c2d7",
   "outputs": [
    {
     "name": "stdout",
     "output_type": "stream",
     "text": [
      "Classification:  logistic\n",
      "\n",
      "Test data\n",
      "accuracy 0.4119106699751861\n",
      "precision 0.3385476012636035\n",
      "recall 0.4119106699751861\n",
      "f1 0.3433350664948463\n",
      "accuracy_count 166.0\n",
      "\n",
      "Classification:  lda\n",
      "\n",
      "Test data\n",
      "accuracy 0.4143920595533499\n",
      "precision 0.32091281910525515\n",
      "recall 0.4143920595533499\n",
      "f1 0.3449744403705425\n",
      "accuracy_count 167.0\n",
      "\n",
      "Classification:  svm\n",
      "\n",
      "Test data\n",
      "accuracy 0.40198511166253104\n",
      "precision 0.2839236997578307\n",
      "recall 0.40198511166253104\n",
      "f1 0.31321530332951847\n",
      "accuracy_count 162.0\n",
      "\n",
      "Classification:  radius_neighbors\n",
      "\n",
      "Test data\n",
      "accuracy 0.315136476426799\n",
      "precision 0.09931099877469843\n",
      "recall 0.315136476426799\n",
      "f1 0.1510276698347301\n",
      "accuracy_count 127.0\n",
      "\n",
      "Classification:  decision_tree\n",
      "\n",
      "Test data\n",
      "accuracy 0.4665012406947891\n",
      "precision 0.4136378758187792\n",
      "recall 0.4665012406947891\n",
      "f1 0.43322854520756743\n",
      "accuracy_count 188.0\n",
      "\n"
     ]
    }
   ],
   "execution_count": 15
  },
  {
   "cell_type": "code",
   "source": [
    "x_train, x_test, y_train, y_test = train_test_split(features, target, test_size=0.2, random_state=557)\n",
    "\n",
    "param_grid = {\n",
    "    'criterion': ['gini', 'entropy'],\n",
    "    'max_depth': [None, 5, 10, 15],\n",
    "    'min_samples_split': [2, 5, 10],\n",
    "    'min_samples_leaf': [1, 2, 4]\n",
    "}\n",
    "grid_search = GridSearchCV(DecisionTreeClassifier(), param_grid, cv=3, return_train_score=True)\n",
    "grid_search.fit(x_train, y_train)\n",
    "\n",
    "grid_search.best_params_"
   ],
   "metadata": {
    "collapsed": false,
    "ExecuteTime": {
     "end_time": "2024-04-07T19:50:38.429610Z",
     "start_time": "2024-04-07T19:50:36.887647Z"
    }
   },
   "id": "b8b3b944afcc5cad",
   "outputs": [
    {
     "data": {
      "text/plain": [
       "{'criterion': 'gini',\n",
       " 'max_depth': 5,\n",
       " 'min_samples_leaf': 4,\n",
       " 'min_samples_split': 2}"
      ]
     },
     "execution_count": 16,
     "metadata": {},
     "output_type": "execute_result"
    }
   ],
   "execution_count": 16
  }
 ],
 "metadata": {
  "kernelspec": {
   "display_name": "Python 3",
   "language": "python",
   "name": "python3"
  },
  "language_info": {
   "codemirror_mode": {
    "name": "ipython",
    "version": 2
   },
   "file_extension": ".py",
   "mimetype": "text/x-python",
   "name": "python",
   "nbconvert_exporter": "python",
   "pygments_lexer": "ipython2",
   "version": "2.7.6"
  }
 },
 "nbformat": 4,
 "nbformat_minor": 5
}
