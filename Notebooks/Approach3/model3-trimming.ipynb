{
 "cells": [
  {
   "cell_type": "code",
   "id": "initial_id",
   "metadata": {
    "collapsed": true,
    "ExecuteTime": {
     "end_time": "2024-04-07T17:33:12.174063Z",
     "start_time": "2024-04-07T17:33:12.168665Z"
    }
   },
   "source": [
    "import pandas as pd\n",
    "from sklearn.ensemble import RandomForestRegressor\n",
    "from sklearn.model_selection import cross_val_score\n",
    "from sklearn.model_selection import KFold\n",
    "from sklearn.linear_model import LinearRegression, ElasticNet, Lasso, Ridge"
   ],
   "outputs": [],
   "execution_count": 16
  },
  {
   "cell_type": "code",
   "source": [
    "df = pd.read_csv('/Users/yelderiny/Projects/Dissertation/Data/processed-data3-outliers-trimmed.csv')\n",
    "df.head()"
   ],
   "metadata": {
    "collapsed": false,
    "ExecuteTime": {
     "end_time": "2024-04-07T17:33:12.191345Z",
     "start_time": "2024-04-07T17:33:12.176953Z"
    }
   },
   "id": "816b55a6d3d0a06b",
   "outputs": [
    {
     "data": {
      "text/plain": [
       "   pull_requests      size  contributors       age  contributor_xp1  \\\n",
       "0      -0.475761 -0.019595     -0.523299 -1.357631        -0.730122   \n",
       "1      -0.368603 -0.378868     -0.594450 -1.434862        -0.152925   \n",
       "2      -0.268836 -0.011689     -0.067930 -0.108479         0.401726   \n",
       "3      -0.586613 -0.395166     -0.765214 -0.743383        -0.631417   \n",
       "4      -0.531187 -0.247633     -0.437917 -0.711054        -0.776218   \n",
       "\n",
       "   contributor_xp2  contributor_xp3  language_C++  language_Go  language_Java  \\\n",
       "0        -0.713574        -0.652890             0            0              1   \n",
       "1        -0.182309        -0.528101             0            0              1   \n",
       "2         0.371841         0.273371             0            0              1   \n",
       "3        -0.652002        -0.836359             0            0              1   \n",
       "4        -0.787134        -0.864585             0            0              1   \n",
       "\n",
       "   language_JavaScript  language_Python  language_Swift  language_TypeScript  \\\n",
       "0                    0                0               0                    0   \n",
       "1                    0                0               0                    0   \n",
       "2                    0                0               0                    0   \n",
       "3                    0                0               0                    0   \n",
       "4                    0                0               0                    0   \n",
       "\n",
       "   pr_points1  pr_points2  pr_points3  \n",
       "0       2.271       2.389       2.377  \n",
       "1       3.390       3.318       2.749  \n",
       "2       4.006       3.668       3.544  \n",
       "3       3.281       2.569       3.257  \n",
       "4       4.867       4.833       5.186  "
      ],
      "text/html": [
       "<div>\n",
       "<style scoped>\n",
       "    .dataframe tbody tr th:only-of-type {\n",
       "        vertical-align: middle;\n",
       "    }\n",
       "\n",
       "    .dataframe tbody tr th {\n",
       "        vertical-align: top;\n",
       "    }\n",
       "\n",
       "    .dataframe thead th {\n",
       "        text-align: right;\n",
       "    }\n",
       "</style>\n",
       "<table border=\"1\" class=\"dataframe\">\n",
       "  <thead>\n",
       "    <tr style=\"text-align: right;\">\n",
       "      <th></th>\n",
       "      <th>pull_requests</th>\n",
       "      <th>size</th>\n",
       "      <th>contributors</th>\n",
       "      <th>age</th>\n",
       "      <th>contributor_xp1</th>\n",
       "      <th>contributor_xp2</th>\n",
       "      <th>contributor_xp3</th>\n",
       "      <th>language_C++</th>\n",
       "      <th>language_Go</th>\n",
       "      <th>language_Java</th>\n",
       "      <th>language_JavaScript</th>\n",
       "      <th>language_Python</th>\n",
       "      <th>language_Swift</th>\n",
       "      <th>language_TypeScript</th>\n",
       "      <th>pr_points1</th>\n",
       "      <th>pr_points2</th>\n",
       "      <th>pr_points3</th>\n",
       "    </tr>\n",
       "  </thead>\n",
       "  <tbody>\n",
       "    <tr>\n",
       "      <th>0</th>\n",
       "      <td>-0.475761</td>\n",
       "      <td>-0.019595</td>\n",
       "      <td>-0.523299</td>\n",
       "      <td>-1.357631</td>\n",
       "      <td>-0.730122</td>\n",
       "      <td>-0.713574</td>\n",
       "      <td>-0.652890</td>\n",
       "      <td>0</td>\n",
       "      <td>0</td>\n",
       "      <td>1</td>\n",
       "      <td>0</td>\n",
       "      <td>0</td>\n",
       "      <td>0</td>\n",
       "      <td>0</td>\n",
       "      <td>2.271</td>\n",
       "      <td>2.389</td>\n",
       "      <td>2.377</td>\n",
       "    </tr>\n",
       "    <tr>\n",
       "      <th>1</th>\n",
       "      <td>-0.368603</td>\n",
       "      <td>-0.378868</td>\n",
       "      <td>-0.594450</td>\n",
       "      <td>-1.434862</td>\n",
       "      <td>-0.152925</td>\n",
       "      <td>-0.182309</td>\n",
       "      <td>-0.528101</td>\n",
       "      <td>0</td>\n",
       "      <td>0</td>\n",
       "      <td>1</td>\n",
       "      <td>0</td>\n",
       "      <td>0</td>\n",
       "      <td>0</td>\n",
       "      <td>0</td>\n",
       "      <td>3.390</td>\n",
       "      <td>3.318</td>\n",
       "      <td>2.749</td>\n",
       "    </tr>\n",
       "    <tr>\n",
       "      <th>2</th>\n",
       "      <td>-0.268836</td>\n",
       "      <td>-0.011689</td>\n",
       "      <td>-0.067930</td>\n",
       "      <td>-0.108479</td>\n",
       "      <td>0.401726</td>\n",
       "      <td>0.371841</td>\n",
       "      <td>0.273371</td>\n",
       "      <td>0</td>\n",
       "      <td>0</td>\n",
       "      <td>1</td>\n",
       "      <td>0</td>\n",
       "      <td>0</td>\n",
       "      <td>0</td>\n",
       "      <td>0</td>\n",
       "      <td>4.006</td>\n",
       "      <td>3.668</td>\n",
       "      <td>3.544</td>\n",
       "    </tr>\n",
       "    <tr>\n",
       "      <th>3</th>\n",
       "      <td>-0.586613</td>\n",
       "      <td>-0.395166</td>\n",
       "      <td>-0.765214</td>\n",
       "      <td>-0.743383</td>\n",
       "      <td>-0.631417</td>\n",
       "      <td>-0.652002</td>\n",
       "      <td>-0.836359</td>\n",
       "      <td>0</td>\n",
       "      <td>0</td>\n",
       "      <td>1</td>\n",
       "      <td>0</td>\n",
       "      <td>0</td>\n",
       "      <td>0</td>\n",
       "      <td>0</td>\n",
       "      <td>3.281</td>\n",
       "      <td>2.569</td>\n",
       "      <td>3.257</td>\n",
       "    </tr>\n",
       "    <tr>\n",
       "      <th>4</th>\n",
       "      <td>-0.531187</td>\n",
       "      <td>-0.247633</td>\n",
       "      <td>-0.437917</td>\n",
       "      <td>-0.711054</td>\n",
       "      <td>-0.776218</td>\n",
       "      <td>-0.787134</td>\n",
       "      <td>-0.864585</td>\n",
       "      <td>0</td>\n",
       "      <td>0</td>\n",
       "      <td>1</td>\n",
       "      <td>0</td>\n",
       "      <td>0</td>\n",
       "      <td>0</td>\n",
       "      <td>0</td>\n",
       "      <td>4.867</td>\n",
       "      <td>4.833</td>\n",
       "      <td>5.186</td>\n",
       "    </tr>\n",
       "  </tbody>\n",
       "</table>\n",
       "</div>"
      ]
     },
     "execution_count": 17,
     "metadata": {},
     "output_type": "execute_result"
    }
   ],
   "execution_count": 17
  },
  {
   "cell_type": "code",
   "source": [
    "features1 = df.drop(columns=['pr_points1', 'pr_points2', 'pr_points3', 'contributor_xp2', 'contributor_xp3'], axis=1)\n",
    "features2 = df.drop(columns=['pr_points1', 'pr_points2', 'pr_points3', 'contributor_xp1', 'contributor_xp3'], axis=1)\n",
    "features3 = df.drop(columns=['pr_points1', 'pr_points2', 'pr_points3', 'contributor_xp1', 'contributor_xp2'], axis=1)\n",
    "target1 = df['pr_points1']\n",
    "target2 = df['pr_points2']\n",
    "target3 = df['pr_points3']"
   ],
   "metadata": {
    "collapsed": false,
    "ExecuteTime": {
     "end_time": "2024-04-07T17:33:12.194897Z",
     "start_time": "2024-04-07T17:33:12.191953Z"
    }
   },
   "id": "e57ec14571fac594",
   "outputs": [],
   "execution_count": 18
  },
  {
   "cell_type": "code",
   "source": [
    "max_error_scoring = \"max_error\"\n",
    "neg_mean_absolute_error_scoring = \"neg_mean_absolute_error\"\n",
    "r2_scoring = \"r2\"\n",
    "neg_mean_squared_error_scoring = \"neg_mean_squared_error\""
   ],
   "metadata": {
    "collapsed": false,
    "ExecuteTime": {
     "end_time": "2024-04-07T17:33:12.197451Z",
     "start_time": "2024-04-07T17:33:12.195963Z"
    }
   },
   "id": "7746085ed8fffb63",
   "outputs": [],
   "execution_count": 19
  },
  {
   "metadata": {
    "ExecuteTime": {
     "end_time": "2024-04-07T17:33:12.200256Z",
     "start_time": "2024-04-07T17:33:12.198118Z"
    }
   },
   "cell_type": "code",
   "source": [
    "models = [\n",
    "    ('Linear Regression', LinearRegression()),\n",
    "    ('LASSO', Lasso()),\n",
    "    ('Ridge', Ridge()),\n",
    "    ('Elastic Net', ElasticNet()),\n",
    "    ('Random Forest', RandomForestRegressor())\n",
    "]"
   ],
   "id": "297614eb16c16add",
   "outputs": [],
   "execution_count": 20
  },
  {
   "metadata": {
    "ExecuteTime": {
     "end_time": "2024-04-07T17:33:12.202562Z",
     "start_time": "2024-04-07T17:33:12.200942Z"
    }
   },
   "cell_type": "code",
   "source": [
    "features1.name = 'Features 1'\n",
    "features2.name = 'Features 2'\n",
    "features3.name = 'Features 3'\n",
    "target1.name = 'Target 1'\n",
    "target2.name = 'Target 2'\n",
    "target3.name = 'Target 3'"
   ],
   "id": "6928efc8ebaf9a44",
   "outputs": [],
   "execution_count": 21
  },
  {
   "metadata": {
    "ExecuteTime": {
     "end_time": "2024-04-07T17:33:12.204881Z",
     "start_time": "2024-04-07T17:33:12.203034Z"
    }
   },
   "cell_type": "code",
   "source": [
    "features = [features1, features2, features3]\n",
    "targets = [target1, target2, target3]\n",
    "results = []"
   ],
   "id": "42b087fcd80b6f76",
   "outputs": [],
   "execution_count": 22
  },
  {
   "metadata": {
    "ExecuteTime": {
     "end_time": "2024-04-07T17:36:03.638466Z",
     "start_time": "2024-04-07T17:33:12.205470Z"
    }
   },
   "cell_type": "code",
   "source": [
    "for feature in features:\n",
    "    for target in targets:\n",
    "        for name, model in models:\n",
    "            print(f'{feature.name}, {target.name}, {name}')\n",
    "            kfold = KFold(n_splits=10, shuffle=True, random_state=817)\n",
    "            cv_results1 = cross_val_score(model, features1, target1, cv=kfold, scoring=max_error_scoring)\n",
    "            cv_results2 = cross_val_score(model, features1, target1, cv=kfold, scoring=neg_mean_absolute_error_scoring)\n",
    "            cv_results3 = cross_val_score(model, features1, target1, cv=kfold, scoring=r2_scoring)\n",
    "            cv_results4 = cross_val_score(model, features1, target1, cv=kfold, scoring=neg_mean_squared_error_scoring)    \n",
    "            msg = f'{feature.name}, {target.name}, {name} \\n max error: {cv_results1.mean()}, mean absolute error: {-cv_results2.mean()}, r2: {cv_results3.mean()}, mean squared error: {-cv_results4.mean()}'\n",
    "            results.append(msg)"
   ],
   "id": "d76ec7b7a9d394e",
   "outputs": [
    {
     "name": "stdout",
     "output_type": "stream",
     "text": [
      "Features 1, Target 1, Linear Regression\n",
      "Features 1, Target 1, LASSO\n",
      "Features 1, Target 1, Ridge\n",
      "Features 1, Target 1, Elastic Net\n",
      "Features 1, Target 1, Random Forest\n",
      "Features 1, Target 2, Linear Regression\n",
      "Features 1, Target 2, LASSO\n",
      "Features 1, Target 2, Ridge\n",
      "Features 1, Target 2, Elastic Net\n",
      "Features 1, Target 2, Random Forest\n",
      "Features 1, Target 3, Linear Regression\n",
      "Features 1, Target 3, LASSO\n",
      "Features 1, Target 3, Ridge\n",
      "Features 1, Target 3, Elastic Net\n",
      "Features 1, Target 3, Random Forest\n",
      "Features 2, Target 1, Linear Regression\n",
      "Features 2, Target 1, LASSO\n",
      "Features 2, Target 1, Ridge\n",
      "Features 2, Target 1, Elastic Net\n",
      "Features 2, Target 1, Random Forest\n",
      "Features 2, Target 2, Linear Regression\n",
      "Features 2, Target 2, LASSO\n",
      "Features 2, Target 2, Ridge\n",
      "Features 2, Target 2, Elastic Net\n",
      "Features 2, Target 2, Random Forest\n",
      "Features 2, Target 3, Linear Regression\n",
      "Features 2, Target 3, LASSO\n",
      "Features 2, Target 3, Ridge\n",
      "Features 2, Target 3, Elastic Net\n",
      "Features 2, Target 3, Random Forest\n",
      "Features 3, Target 1, Linear Regression\n",
      "Features 3, Target 1, LASSO\n",
      "Features 3, Target 1, Ridge\n",
      "Features 3, Target 1, Elastic Net\n",
      "Features 3, Target 1, Random Forest\n",
      "Features 3, Target 2, Linear Regression\n",
      "Features 3, Target 2, LASSO\n",
      "Features 3, Target 2, Ridge\n",
      "Features 3, Target 2, Elastic Net\n",
      "Features 3, Target 2, Random Forest\n",
      "Features 3, Target 3, Linear Regression\n",
      "Features 3, Target 3, LASSO\n",
      "Features 3, Target 3, Ridge\n",
      "Features 3, Target 3, Elastic Net\n",
      "Features 3, Target 3, Random Forest\n"
     ]
    }
   ],
   "execution_count": 23
  },
  {
   "metadata": {
    "ExecuteTime": {
     "end_time": "2024-04-07T17:42:07.329059Z",
     "start_time": "2024-04-07T17:42:07.323268Z"
    }
   },
   "cell_type": "code",
   "source": [
    "for i in range(len(results)):\n",
    "    if i % 15 == 0 and i != 0: \n",
    "        print()\n",
    "    print(results[i])"
   ],
   "id": "3bf979693c6377a0",
   "outputs": [
    {
     "name": "stdout",
     "output_type": "stream",
     "text": [
      "Features 1, Target 1, Linear Regression \n",
      " max error: -9.803544696628935, mean absolute error: 1.8949305134199488, r2: 0.384768883154034, mean squared error: 6.682962731455325\n",
      "Features 1, Target 1, LASSO \n",
      " max error: -9.56916901644555, mean absolute error: 2.1909292862129064, r2: 0.26637324238708915, mean squared error: 7.962459683837514\n",
      "Features 1, Target 1, Ridge \n",
      " max error: -9.826444363340187, mean absolute error: 1.8950263833633785, r2: 0.38484552567717906, mean squared error: 6.684340632356569\n",
      "Features 1, Target 1, Elastic Net \n",
      " max error: -9.452336170328909, mean absolute error: 2.1369187913936907, r2: 0.29381215538260974, mean squared error: 7.66901610460298\n",
      "Features 1, Target 1, Random Forest \n",
      " max error: -7.8298950000000005, mean absolute error: 1.601128816608415, r2: 0.5300831871655519, mean squared error: 5.042288212285953\n",
      "Features 1, Target 2, Linear Regression \n",
      " max error: -9.803544696628935, mean absolute error: 1.8949305134199488, r2: 0.384768883154034, mean squared error: 6.682962731455325\n",
      "Features 1, Target 2, LASSO \n",
      " max error: -9.56916901644555, mean absolute error: 2.1909292862129064, r2: 0.26637324238708915, mean squared error: 7.962459683837514\n",
      "Features 1, Target 2, Ridge \n",
      " max error: -9.826444363340187, mean absolute error: 1.8950263833633785, r2: 0.38484552567717906, mean squared error: 6.684340632356569\n",
      "Features 1, Target 2, Elastic Net \n",
      " max error: -9.452336170328909, mean absolute error: 2.1369187913936907, r2: 0.29381215538260974, mean squared error: 7.66901610460298\n",
      "Features 1, Target 2, Random Forest \n",
      " max error: -7.8930729999999985, mean absolute error: 1.5937426440381774, r2: 0.5348677422055138, mean squared error: 5.022463150303904\n",
      "Features 1, Target 3, Linear Regression \n",
      " max error: -9.803544696628935, mean absolute error: 1.8949305134199488, r2: 0.384768883154034, mean squared error: 6.682962731455325\n",
      "Features 1, Target 3, LASSO \n",
      " max error: -9.56916901644555, mean absolute error: 2.1909292862129064, r2: 0.26637324238708915, mean squared error: 7.962459683837514\n",
      "Features 1, Target 3, Ridge \n",
      " max error: -9.826444363340187, mean absolute error: 1.8950263833633785, r2: 0.38484552567717906, mean squared error: 6.684340632356569\n",
      "Features 1, Target 3, Elastic Net \n",
      " max error: -9.452336170328909, mean absolute error: 2.1369187913936907, r2: 0.29381215538260974, mean squared error: 7.66901610460298\n",
      "Features 1, Target 3, Random Forest \n",
      " max error: -7.918980999999998, mean absolute error: 1.598317317919075, r2: 0.5336842976637846, mean squared error: 5.008300686662123\n",
      "\n",
      "Features 2, Target 1, Linear Regression \n",
      " max error: -9.803544696628935, mean absolute error: 1.8949305134199488, r2: 0.384768883154034, mean squared error: 6.682962731455325\n",
      "Features 2, Target 1, LASSO \n",
      " max error: -9.56916901644555, mean absolute error: 2.1909292862129064, r2: 0.26637324238708915, mean squared error: 7.962459683837514\n",
      "Features 2, Target 1, Ridge \n",
      " max error: -9.826444363340187, mean absolute error: 1.8950263833633785, r2: 0.38484552567717906, mean squared error: 6.684340632356569\n",
      "Features 2, Target 1, Elastic Net \n",
      " max error: -9.452336170328909, mean absolute error: 2.1369187913936907, r2: 0.29381215538260974, mean squared error: 7.66901610460298\n",
      "Features 2, Target 1, Random Forest \n",
      " max error: -7.924211, mean absolute error: 1.5933230929224358, r2: 0.5327858330451613, mean squared error: 5.053498591677674\n",
      "Features 2, Target 2, Linear Regression \n",
      " max error: -9.803544696628935, mean absolute error: 1.8949305134199488, r2: 0.384768883154034, mean squared error: 6.682962731455325\n",
      "Features 2, Target 2, LASSO \n",
      " max error: -9.56916901644555, mean absolute error: 2.1909292862129064, r2: 0.26637324238708915, mean squared error: 7.962459683837514\n",
      "Features 2, Target 2, Ridge \n",
      " max error: -9.826444363340187, mean absolute error: 1.8950263833633785, r2: 0.38484552567717906, mean squared error: 6.684340632356569\n",
      "Features 2, Target 2, Elastic Net \n",
      " max error: -9.452336170328909, mean absolute error: 2.1369187913936907, r2: 0.29381215538260974, mean squared error: 7.66901610460298\n",
      "Features 2, Target 2, Random Forest \n",
      " max error: -7.944006999999999, mean absolute error: 1.601005273222207, r2: 0.5307594090104707, mean squared error: 5.008708655206813\n",
      "Features 2, Target 3, Linear Regression \n",
      " max error: -9.803544696628935, mean absolute error: 1.8949305134199488, r2: 0.384768883154034, mean squared error: 6.682962731455325\n",
      "Features 2, Target 3, LASSO \n",
      " max error: -9.56916901644555, mean absolute error: 2.1909292862129064, r2: 0.26637324238708915, mean squared error: 7.962459683837514\n",
      "Features 2, Target 3, Ridge \n",
      " max error: -9.826444363340187, mean absolute error: 1.8950263833633785, r2: 0.38484552567717906, mean squared error: 6.684340632356569\n",
      "Features 2, Target 3, Elastic Net \n",
      " max error: -9.452336170328909, mean absolute error: 2.1369187913936907, r2: 0.29381215538260974, mean squared error: 7.66901610460298\n",
      "Features 2, Target 3, Random Forest \n",
      " max error: -7.9955039999999995, mean absolute error: 1.5959537224425326, r2: 0.5239674544329622, mean squared error: 5.02754280309688\n",
      "\n",
      "Features 3, Target 1, Linear Regression \n",
      " max error: -9.803544696628935, mean absolute error: 1.8949305134199488, r2: 0.384768883154034, mean squared error: 6.682962731455325\n",
      "Features 3, Target 1, LASSO \n",
      " max error: -9.56916901644555, mean absolute error: 2.1909292862129064, r2: 0.26637324238708915, mean squared error: 7.962459683837514\n",
      "Features 3, Target 1, Ridge \n",
      " max error: -9.826444363340187, mean absolute error: 1.8950263833633785, r2: 0.38484552567717906, mean squared error: 6.684340632356569\n",
      "Features 3, Target 1, Elastic Net \n",
      " max error: -9.452336170328909, mean absolute error: 2.1369187913936907, r2: 0.29381215538260974, mean squared error: 7.66901610460298\n",
      "Features 3, Target 1, Random Forest \n",
      " max error: -7.817670999999999, mean absolute error: 1.5966624913630865, r2: 0.5291162064463311, mean squared error: 5.038744911775008\n",
      "Features 3, Target 2, Linear Regression \n",
      " max error: -9.803544696628935, mean absolute error: 1.8949305134199488, r2: 0.384768883154034, mean squared error: 6.682962731455325\n",
      "Features 3, Target 2, LASSO \n",
      " max error: -9.56916901644555, mean absolute error: 2.1909292862129064, r2: 0.26637324238708915, mean squared error: 7.962459683837514\n",
      "Features 3, Target 2, Ridge \n",
      " max error: -9.826444363340187, mean absolute error: 1.8950263833633785, r2: 0.38484552567717906, mean squared error: 6.684340632356569\n",
      "Features 3, Target 2, Elastic Net \n",
      " max error: -9.452336170328909, mean absolute error: 2.1369187913936907, r2: 0.29381215538260974, mean squared error: 7.66901610460298\n",
      "Features 3, Target 2, Random Forest \n",
      " max error: -7.699564, mean absolute error: 1.6014493467872029, r2: 0.5325143182503399, mean squared error: 5.093733812720944\n",
      "Features 3, Target 3, Linear Regression \n",
      " max error: -9.803544696628935, mean absolute error: 1.8949305134199488, r2: 0.384768883154034, mean squared error: 6.682962731455325\n",
      "Features 3, Target 3, LASSO \n",
      " max error: -9.56916901644555, mean absolute error: 2.1909292862129064, r2: 0.26637324238708915, mean squared error: 7.962459683837514\n",
      "Features 3, Target 3, Ridge \n",
      " max error: -9.826444363340187, mean absolute error: 1.8950263833633785, r2: 0.38484552567717906, mean squared error: 6.684340632356569\n",
      "Features 3, Target 3, Elastic Net \n",
      " max error: -9.452336170328909, mean absolute error: 2.1369187913936907, r2: 0.29381215538260974, mean squared error: 7.66901610460298\n",
      "Features 3, Target 3, Random Forest \n",
      " max error: -7.9806550000000005, mean absolute error: 1.5934183254133618, r2: 0.5303184274508334, mean squared error: 5.0129108211589735\n"
     ]
    }
   ],
   "execution_count": 25
  },
  {
   "metadata": {
    "ExecuteTime": {
     "end_time": "2024-04-07T17:42:15.670903Z",
     "start_time": "2024-04-07T17:42:15.668856Z"
    }
   },
   "cell_type": "code",
   "source": [
    "for i in range(len(results)):\n",
    "    if 'Random Forest' in results[i]: \n",
    "        print(results[i])"
   ],
   "id": "e018f30624015a41",
   "outputs": [
    {
     "name": "stdout",
     "output_type": "stream",
     "text": [
      "Features 1, Target 1, Random Forest \n",
      " max error: -7.8298950000000005, mean absolute error: 1.601128816608415, r2: 0.5300831871655519, mean squared error: 5.042288212285953\n",
      "Features 1, Target 2, Random Forest \n",
      " max error: -7.8930729999999985, mean absolute error: 1.5937426440381774, r2: 0.5348677422055138, mean squared error: 5.022463150303904\n",
      "Features 1, Target 3, Random Forest \n",
      " max error: -7.918980999999998, mean absolute error: 1.598317317919075, r2: 0.5336842976637846, mean squared error: 5.008300686662123\n",
      "Features 2, Target 1, Random Forest \n",
      " max error: -7.924211, mean absolute error: 1.5933230929224358, r2: 0.5327858330451613, mean squared error: 5.053498591677674\n",
      "Features 2, Target 2, Random Forest \n",
      " max error: -7.944006999999999, mean absolute error: 1.601005273222207, r2: 0.5307594090104707, mean squared error: 5.008708655206813\n",
      "Features 2, Target 3, Random Forest \n",
      " max error: -7.9955039999999995, mean absolute error: 1.5959537224425326, r2: 0.5239674544329622, mean squared error: 5.02754280309688\n",
      "Features 3, Target 1, Random Forest \n",
      " max error: -7.817670999999999, mean absolute error: 1.5966624913630865, r2: 0.5291162064463311, mean squared error: 5.038744911775008\n",
      "Features 3, Target 2, Random Forest \n",
      " max error: -7.699564, mean absolute error: 1.6014493467872029, r2: 0.5325143182503399, mean squared error: 5.093733812720944\n",
      "Features 3, Target 3, Random Forest \n",
      " max error: -7.9806550000000005, mean absolute error: 1.5934183254133618, r2: 0.5303184274508334, mean squared error: 5.0129108211589735\n"
     ]
    }
   ],
   "execution_count": 26
  }
 ],
 "metadata": {
  "kernelspec": {
   "display_name": "Python 3",
   "language": "python",
   "name": "python3"
  },
  "language_info": {
   "codemirror_mode": {
    "name": "ipython",
    "version": 2
   },
   "file_extension": ".py",
   "mimetype": "text/x-python",
   "name": "python",
   "nbconvert_exporter": "python",
   "pygments_lexer": "ipython2",
   "version": "2.7.6"
  }
 },
 "nbformat": 4,
 "nbformat_minor": 5
}
