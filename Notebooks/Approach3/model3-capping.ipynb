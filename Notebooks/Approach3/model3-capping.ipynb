{
 "cells": [
  {
   "cell_type": "code",
   "id": "initial_id",
   "metadata": {
    "collapsed": true,
    "ExecuteTime": {
     "end_time": "2024-04-07T17:31:58.502319Z",
     "start_time": "2024-04-07T17:31:58.493183Z"
    }
   },
   "source": [
    "import pandas as pd\n",
    "from sklearn.ensemble import RandomForestRegressor\n",
    "from sklearn.model_selection import cross_val_score\n",
    "from sklearn.model_selection import KFold\n",
    "from sklearn.linear_model import LinearRegression, ElasticNet, Lasso, Ridge"
   ],
   "outputs": [],
   "execution_count": 26
  },
  {
   "cell_type": "code",
   "source": [
    "df = pd.read_csv('/Users/yelderiny/Projects/Dissertation/Data/processed-data3-outliers-capped.csv')\n",
    "df.head()"
   ],
   "metadata": {
    "collapsed": false,
    "ExecuteTime": {
     "end_time": "2024-04-07T17:31:58.528271Z",
     "start_time": "2024-04-07T17:31:58.505176Z"
    }
   },
   "id": "816b55a6d3d0a06b",
   "outputs": [
    {
     "data": {
      "text/plain": [
       "   pull_requests      size  contributors       age  contributor_xp1  \\\n",
       "0      -0.441351 -0.155899     -0.607450 -1.390139        -0.760476   \n",
       "1      -0.400284 -0.376812     -0.652329 -1.466477        -0.328626   \n",
       "2      -0.362050 -0.151038     -0.320222 -0.155424         0.086355   \n",
       "3      -0.483834 -0.386834     -0.760040 -0.782989        -0.686626   \n",
       "4      -0.462592 -0.296117     -0.553595 -0.751034        -0.794964   \n",
       "\n",
       "   contributor_xp2  contributor_xp3  language_C++  language_Go  language_Java  \\\n",
       "0        -0.749159        -0.714005             0            0              1   \n",
       "1        -0.353298        -0.621405             0            0              1   \n",
       "2         0.059615        -0.026675             0            0              1   \n",
       "3        -0.703280        -0.850148             0            0              1   \n",
       "4        -0.803970        -0.871093             0            0              1   \n",
       "\n",
       "   language_JavaScript  language_Python  language_Swift  language_TypeScript  \\\n",
       "0                    0                0               0                    0   \n",
       "1                    0                0               0                    0   \n",
       "2                    0                0               0                    0   \n",
       "3                    0                0               0                    0   \n",
       "4                    0                0               0                    0   \n",
       "\n",
       "   pr_points1  pr_points2  pr_points3  \n",
       "0       2.271       2.389       2.377  \n",
       "1       3.390       3.318       2.749  \n",
       "2       4.006       3.668       3.544  \n",
       "3       3.281       2.569       3.257  \n",
       "4       4.867       4.833       5.186  "
      ],
      "text/html": [
       "<div>\n",
       "<style scoped>\n",
       "    .dataframe tbody tr th:only-of-type {\n",
       "        vertical-align: middle;\n",
       "    }\n",
       "\n",
       "    .dataframe tbody tr th {\n",
       "        vertical-align: top;\n",
       "    }\n",
       "\n",
       "    .dataframe thead th {\n",
       "        text-align: right;\n",
       "    }\n",
       "</style>\n",
       "<table border=\"1\" class=\"dataframe\">\n",
       "  <thead>\n",
       "    <tr style=\"text-align: right;\">\n",
       "      <th></th>\n",
       "      <th>pull_requests</th>\n",
       "      <th>size</th>\n",
       "      <th>contributors</th>\n",
       "      <th>age</th>\n",
       "      <th>contributor_xp1</th>\n",
       "      <th>contributor_xp2</th>\n",
       "      <th>contributor_xp3</th>\n",
       "      <th>language_C++</th>\n",
       "      <th>language_Go</th>\n",
       "      <th>language_Java</th>\n",
       "      <th>language_JavaScript</th>\n",
       "      <th>language_Python</th>\n",
       "      <th>language_Swift</th>\n",
       "      <th>language_TypeScript</th>\n",
       "      <th>pr_points1</th>\n",
       "      <th>pr_points2</th>\n",
       "      <th>pr_points3</th>\n",
       "    </tr>\n",
       "  </thead>\n",
       "  <tbody>\n",
       "    <tr>\n",
       "      <th>0</th>\n",
       "      <td>-0.441351</td>\n",
       "      <td>-0.155899</td>\n",
       "      <td>-0.607450</td>\n",
       "      <td>-1.390139</td>\n",
       "      <td>-0.760476</td>\n",
       "      <td>-0.749159</td>\n",
       "      <td>-0.714005</td>\n",
       "      <td>0</td>\n",
       "      <td>0</td>\n",
       "      <td>1</td>\n",
       "      <td>0</td>\n",
       "      <td>0</td>\n",
       "      <td>0</td>\n",
       "      <td>0</td>\n",
       "      <td>2.271</td>\n",
       "      <td>2.389</td>\n",
       "      <td>2.377</td>\n",
       "    </tr>\n",
       "    <tr>\n",
       "      <th>1</th>\n",
       "      <td>-0.400284</td>\n",
       "      <td>-0.376812</td>\n",
       "      <td>-0.652329</td>\n",
       "      <td>-1.466477</td>\n",
       "      <td>-0.328626</td>\n",
       "      <td>-0.353298</td>\n",
       "      <td>-0.621405</td>\n",
       "      <td>0</td>\n",
       "      <td>0</td>\n",
       "      <td>1</td>\n",
       "      <td>0</td>\n",
       "      <td>0</td>\n",
       "      <td>0</td>\n",
       "      <td>0</td>\n",
       "      <td>3.390</td>\n",
       "      <td>3.318</td>\n",
       "      <td>2.749</td>\n",
       "    </tr>\n",
       "    <tr>\n",
       "      <th>2</th>\n",
       "      <td>-0.362050</td>\n",
       "      <td>-0.151038</td>\n",
       "      <td>-0.320222</td>\n",
       "      <td>-0.155424</td>\n",
       "      <td>0.086355</td>\n",
       "      <td>0.059615</td>\n",
       "      <td>-0.026675</td>\n",
       "      <td>0</td>\n",
       "      <td>0</td>\n",
       "      <td>1</td>\n",
       "      <td>0</td>\n",
       "      <td>0</td>\n",
       "      <td>0</td>\n",
       "      <td>0</td>\n",
       "      <td>4.006</td>\n",
       "      <td>3.668</td>\n",
       "      <td>3.544</td>\n",
       "    </tr>\n",
       "    <tr>\n",
       "      <th>3</th>\n",
       "      <td>-0.483834</td>\n",
       "      <td>-0.386834</td>\n",
       "      <td>-0.760040</td>\n",
       "      <td>-0.782989</td>\n",
       "      <td>-0.686626</td>\n",
       "      <td>-0.703280</td>\n",
       "      <td>-0.850148</td>\n",
       "      <td>0</td>\n",
       "      <td>0</td>\n",
       "      <td>1</td>\n",
       "      <td>0</td>\n",
       "      <td>0</td>\n",
       "      <td>0</td>\n",
       "      <td>0</td>\n",
       "      <td>3.281</td>\n",
       "      <td>2.569</td>\n",
       "      <td>3.257</td>\n",
       "    </tr>\n",
       "    <tr>\n",
       "      <th>4</th>\n",
       "      <td>-0.462592</td>\n",
       "      <td>-0.296117</td>\n",
       "      <td>-0.553595</td>\n",
       "      <td>-0.751034</td>\n",
       "      <td>-0.794964</td>\n",
       "      <td>-0.803970</td>\n",
       "      <td>-0.871093</td>\n",
       "      <td>0</td>\n",
       "      <td>0</td>\n",
       "      <td>1</td>\n",
       "      <td>0</td>\n",
       "      <td>0</td>\n",
       "      <td>0</td>\n",
       "      <td>0</td>\n",
       "      <td>4.867</td>\n",
       "      <td>4.833</td>\n",
       "      <td>5.186</td>\n",
       "    </tr>\n",
       "  </tbody>\n",
       "</table>\n",
       "</div>"
      ]
     },
     "execution_count": 27,
     "metadata": {},
     "output_type": "execute_result"
    }
   ],
   "execution_count": 27
  },
  {
   "cell_type": "code",
   "source": [
    "features1 = df.drop(columns=['pr_points1', 'pr_points2', 'pr_points3', 'contributor_xp2', 'contributor_xp3'], axis=1)\n",
    "features2 = df.drop(columns=['pr_points1', 'pr_points2', 'pr_points3', 'contributor_xp1', 'contributor_xp3'], axis=1)\n",
    "features3 = df.drop(columns=['pr_points1', 'pr_points2', 'pr_points3', 'contributor_xp1', 'contributor_xp2'], axis=1)\n",
    "target1 = df['pr_points1']\n",
    "target2 = df['pr_points2']\n",
    "target3 = df['pr_points3']"
   ],
   "metadata": {
    "collapsed": false,
    "ExecuteTime": {
     "end_time": "2024-04-07T17:31:58.533078Z",
     "start_time": "2024-04-07T17:31:58.529011Z"
    }
   },
   "id": "e57ec14571fac594",
   "outputs": [],
   "execution_count": 28
  },
  {
   "cell_type": "code",
   "source": [
    "max_error_scoring = \"max_error\"\n",
    "neg_mean_absolute_error_scoring = \"neg_mean_absolute_error\"\n",
    "r2_scoring = \"r2\"\n",
    "neg_mean_squared_error_scoring = \"neg_mean_squared_error\""
   ],
   "metadata": {
    "collapsed": false,
    "ExecuteTime": {
     "end_time": "2024-04-07T17:31:58.536022Z",
     "start_time": "2024-04-07T17:31:58.534481Z"
    }
   },
   "id": "7746085ed8fffb63",
   "outputs": [],
   "execution_count": 29
  },
  {
   "metadata": {
    "ExecuteTime": {
     "end_time": "2024-04-07T17:31:58.539126Z",
     "start_time": "2024-04-07T17:31:58.536866Z"
    }
   },
   "cell_type": "code",
   "source": [
    "models = [\n",
    "    ('Linear Regression', LinearRegression()),\n",
    "    ('LASSO', Lasso()),\n",
    "    ('Ridge', Ridge()),\n",
    "    ('Elastic Net', ElasticNet()),\n",
    "    ('Random Forest', RandomForestRegressor())\n",
    "]"
   ],
   "id": "390da7de5a126fe3",
   "outputs": [],
   "execution_count": 30
  },
  {
   "metadata": {
    "ExecuteTime": {
     "end_time": "2024-04-07T17:31:58.541541Z",
     "start_time": "2024-04-07T17:31:58.539723Z"
    }
   },
   "cell_type": "code",
   "source": [
    "features1.name = 'Features 1'\n",
    "features2.name = 'Features 2'\n",
    "features3.name = 'Features 3'\n",
    "target1.name = 'Target 1'\n",
    "target2.name = 'Target 2'\n",
    "target3.name = 'Target 3'"
   ],
   "id": "6928efc8ebaf9a44",
   "outputs": [],
   "execution_count": 31
  },
  {
   "metadata": {
    "ExecuteTime": {
     "end_time": "2024-04-07T17:31:58.544559Z",
     "start_time": "2024-04-07T17:31:58.542447Z"
    }
   },
   "cell_type": "code",
   "source": [
    "features = [features1, features2, features3]\n",
    "targets = [target1, target2, target3]\n",
    "results = []"
   ],
   "id": "42b087fcd80b6f76",
   "outputs": [],
   "execution_count": 32
  },
  {
   "metadata": {
    "ExecuteTime": {
     "end_time": "2024-04-07T17:35:22.817229Z",
     "start_time": "2024-04-07T17:31:58.545767Z"
    }
   },
   "cell_type": "code",
   "source": [
    "for feature in features:\n",
    "    for target in targets:\n",
    "        for name, model in models:\n",
    "            print(f'{feature.name}, {target.name}, {name}')\n",
    "            kfold = KFold(n_splits=10, shuffle=True, random_state=817)\n",
    "            cv_results1 = cross_val_score(model, features1, target1, cv=kfold, scoring=max_error_scoring)\n",
    "            cv_results2 = cross_val_score(model, features1, target1, cv=kfold, scoring=neg_mean_absolute_error_scoring)\n",
    "            cv_results3 = cross_val_score(model, features1, target1, cv=kfold, scoring=r2_scoring)\n",
    "            cv_results4 = cross_val_score(model, features1, target1, cv=kfold, scoring=neg_mean_squared_error_scoring)    \n",
    "            msg = f'{feature.name}, {target.name}, {name} \\n max error: {cv_results1.mean()}, mean absolute error: {-cv_results2.mean()}, r2: {cv_results3.mean()}, mean squared error: {-cv_results4.mean()}'\n",
    "            results.append(msg)"
   ],
   "id": "d76ec7b7a9d394e",
   "outputs": [
    {
     "name": "stdout",
     "output_type": "stream",
     "text": [
      "Features 1, Target 1, Linear Regression\n",
      "Features 1, Target 1, LASSO\n",
      "Features 1, Target 1, Ridge\n",
      "Features 1, Target 1, Elastic Net\n",
      "Features 1, Target 1, Random Forest\n",
      "Features 1, Target 2, Linear Regression\n",
      "Features 1, Target 2, LASSO\n",
      "Features 1, Target 2, Ridge\n",
      "Features 1, Target 2, Elastic Net\n",
      "Features 1, Target 2, Random Forest\n",
      "Features 1, Target 3, Linear Regression\n",
      "Features 1, Target 3, LASSO\n",
      "Features 1, Target 3, Ridge\n",
      "Features 1, Target 3, Elastic Net\n",
      "Features 1, Target 3, Random Forest\n",
      "Features 2, Target 1, Linear Regression\n",
      "Features 2, Target 1, LASSO\n",
      "Features 2, Target 1, Ridge\n",
      "Features 2, Target 1, Elastic Net\n",
      "Features 2, Target 1, Random Forest\n",
      "Features 2, Target 2, Linear Regression\n",
      "Features 2, Target 2, LASSO\n",
      "Features 2, Target 2, Ridge\n",
      "Features 2, Target 2, Elastic Net\n",
      "Features 2, Target 2, Random Forest\n",
      "Features 2, Target 3, Linear Regression\n",
      "Features 2, Target 3, LASSO\n",
      "Features 2, Target 3, Ridge\n",
      "Features 2, Target 3, Elastic Net\n",
      "Features 2, Target 3, Random Forest\n",
      "Features 3, Target 1, Linear Regression\n",
      "Features 3, Target 1, LASSO\n",
      "Features 3, Target 1, Ridge\n",
      "Features 3, Target 1, Elastic Net\n",
      "Features 3, Target 1, Random Forest\n",
      "Features 3, Target 2, Linear Regression\n",
      "Features 3, Target 2, LASSO\n",
      "Features 3, Target 2, Ridge\n",
      "Features 3, Target 2, Elastic Net\n",
      "Features 3, Target 2, Random Forest\n",
      "Features 3, Target 3, Linear Regression\n",
      "Features 3, Target 3, LASSO\n",
      "Features 3, Target 3, Ridge\n",
      "Features 3, Target 3, Elastic Net\n",
      "Features 3, Target 3, Random Forest\n"
     ]
    }
   ],
   "execution_count": 33
  },
  {
   "metadata": {
    "ExecuteTime": {
     "end_time": "2024-04-07T17:41:14.339636Z",
     "start_time": "2024-04-07T17:41:14.333100Z"
    }
   },
   "cell_type": "code",
   "source": [
    "for i in range(len(results)):\n",
    "    if i % 15 == 0 and i != 0: \n",
    "        print()\n",
    "    print(results[i])"
   ],
   "id": "3bf979693c6377a0",
   "outputs": [
    {
     "name": "stdout",
     "output_type": "stream",
     "text": [
      "Features 1, Target 1, Linear Regression \n",
      " max error: -17.176799211990975, mean absolute error: 2.719059324469586, r2: 0.49667481847429223, mean squared error: 15.632809954786087\n",
      "Features 1, Target 1, LASSO \n",
      " max error: -17.375502997836897, mean absolute error: 3.0004174100370222, r2: 0.4443818797040171, mean squared error: 17.280307959295378\n",
      "Features 1, Target 1, Ridge \n",
      " max error: -17.175840219275212, mean absolute error: 2.7180817493256675, r2: 0.4969634530833124, mean squared error: 15.626887448706048\n",
      "Features 1, Target 1, Elastic Net \n",
      " max error: -17.68638745735972, mean absolute error: 3.050487490818305, r2: 0.4259094985924727, mean squared error: 17.887287437143826\n",
      "Features 1, Target 1, Random Forest \n",
      " max error: -14.400276004715696, mean absolute error: 2.316780534071259, r2: 0.5931132491708857, mean squared error: 12.816152913963169\n",
      "Features 1, Target 2, Linear Regression \n",
      " max error: -17.176799211990975, mean absolute error: 2.719059324469586, r2: 0.49667481847429223, mean squared error: 15.632809954786087\n",
      "Features 1, Target 2, LASSO \n",
      " max error: -17.375502997836897, mean absolute error: 3.0004174100370222, r2: 0.4443818797040171, mean squared error: 17.280307959295378\n",
      "Features 1, Target 2, Ridge \n",
      " max error: -17.175840219275212, mean absolute error: 2.7180817493256675, r2: 0.4969634530833124, mean squared error: 15.626887448706048\n",
      "Features 1, Target 2, Elastic Net \n",
      " max error: -17.68638745735972, mean absolute error: 3.050487490818305, r2: 0.4259094985924727, mean squared error: 17.887287437143826\n",
      "Features 1, Target 2, Random Forest \n",
      " max error: -14.525548678499883, mean absolute error: 2.3204952069297393, r2: 0.589315440897982, mean squared error: 12.967514977942182\n",
      "Features 1, Target 3, Linear Regression \n",
      " max error: -17.176799211990975, mean absolute error: 2.719059324469586, r2: 0.49667481847429223, mean squared error: 15.632809954786087\n",
      "Features 1, Target 3, LASSO \n",
      " max error: -17.375502997836897, mean absolute error: 3.0004174100370222, r2: 0.4443818797040171, mean squared error: 17.280307959295378\n",
      "Features 1, Target 3, Ridge \n",
      " max error: -17.175840219275212, mean absolute error: 2.7180817493256675, r2: 0.4969634530833124, mean squared error: 15.626887448706048\n",
      "Features 1, Target 3, Elastic Net \n",
      " max error: -17.68638745735972, mean absolute error: 3.050487490818305, r2: 0.4259094985924727, mean squared error: 17.887287437143826\n",
      "Features 1, Target 3, Random Forest \n",
      " max error: -14.478763068773342, mean absolute error: 2.328485755657595, r2: 0.5933713297085361, mean squared error: 12.762353992980868\n",
      "\n",
      "Features 2, Target 1, Linear Regression \n",
      " max error: -17.176799211990975, mean absolute error: 2.719059324469586, r2: 0.49667481847429223, mean squared error: 15.632809954786087\n",
      "Features 2, Target 1, LASSO \n",
      " max error: -17.375502997836897, mean absolute error: 3.0004174100370222, r2: 0.4443818797040171, mean squared error: 17.280307959295378\n",
      "Features 2, Target 1, Ridge \n",
      " max error: -17.175840219275212, mean absolute error: 2.7180817493256675, r2: 0.4969634530833124, mean squared error: 15.626887448706048\n",
      "Features 2, Target 1, Elastic Net \n",
      " max error: -17.68638745735972, mean absolute error: 3.050487490818305, r2: 0.4259094985924727, mean squared error: 17.887287437143826\n",
      "Features 2, Target 1, Random Forest \n",
      " max error: -14.173230233666123, mean absolute error: 2.299700117026439, r2: 0.5943714012819233, mean squared error: 12.764809935215165\n",
      "Features 2, Target 2, Linear Regression \n",
      " max error: -17.176799211990975, mean absolute error: 2.719059324469586, r2: 0.49667481847429223, mean squared error: 15.632809954786087\n",
      "Features 2, Target 2, LASSO \n",
      " max error: -17.375502997836897, mean absolute error: 3.0004174100370222, r2: 0.4443818797040171, mean squared error: 17.280307959295378\n",
      "Features 2, Target 2, Ridge \n",
      " max error: -17.175840219275212, mean absolute error: 2.7180817493256675, r2: 0.4969634530833124, mean squared error: 15.626887448706048\n",
      "Features 2, Target 2, Elastic Net \n",
      " max error: -17.68638745735972, mean absolute error: 3.050487490818305, r2: 0.4259094985924727, mean squared error: 17.887287437143826\n",
      "Features 2, Target 2, Random Forest \n",
      " max error: -14.503462538529396, mean absolute error: 2.3243827328406135, r2: 0.5882565008870555, mean squared error: 12.786065061051897\n",
      "Features 2, Target 3, Linear Regression \n",
      " max error: -17.176799211990975, mean absolute error: 2.719059324469586, r2: 0.49667481847429223, mean squared error: 15.632809954786087\n",
      "Features 2, Target 3, LASSO \n",
      " max error: -17.375502997836897, mean absolute error: 3.0004174100370222, r2: 0.4443818797040171, mean squared error: 17.280307959295378\n",
      "Features 2, Target 3, Ridge \n",
      " max error: -17.175840219275212, mean absolute error: 2.7180817493256675, r2: 0.4969634530833124, mean squared error: 15.626887448706048\n",
      "Features 2, Target 3, Elastic Net \n",
      " max error: -17.68638745735972, mean absolute error: 3.050487490818305, r2: 0.4259094985924727, mean squared error: 17.887287437143826\n",
      "Features 2, Target 3, Random Forest \n",
      " max error: -14.693729956082999, mean absolute error: 2.31803902075156, r2: 0.5871294022051405, mean squared error: 12.856110543919687\n",
      "\n",
      "Features 3, Target 1, Linear Regression \n",
      " max error: -17.176799211990975, mean absolute error: 2.719059324469586, r2: 0.49667481847429223, mean squared error: 15.632809954786087\n",
      "Features 3, Target 1, LASSO \n",
      " max error: -17.375502997836897, mean absolute error: 3.0004174100370222, r2: 0.4443818797040171, mean squared error: 17.280307959295378\n",
      "Features 3, Target 1, Ridge \n",
      " max error: -17.175840219275212, mean absolute error: 2.7180817493256675, r2: 0.4969634530833124, mean squared error: 15.626887448706048\n",
      "Features 3, Target 1, Elastic Net \n",
      " max error: -17.68638745735972, mean absolute error: 3.050487490818305, r2: 0.4259094985924727, mean squared error: 17.887287437143826\n",
      "Features 3, Target 1, Random Forest \n",
      " max error: -14.181792806615167, mean absolute error: 2.3207641196935707, r2: 0.5906663785441684, mean squared error: 12.824090051648401\n",
      "Features 3, Target 2, Linear Regression \n",
      " max error: -17.176799211990975, mean absolute error: 2.719059324469586, r2: 0.49667481847429223, mean squared error: 15.632809954786087\n",
      "Features 3, Target 2, LASSO \n",
      " max error: -17.375502997836897, mean absolute error: 3.0004174100370222, r2: 0.4443818797040171, mean squared error: 17.280307959295378\n",
      "Features 3, Target 2, Ridge \n",
      " max error: -17.175840219275212, mean absolute error: 2.7180817493256675, r2: 0.4969634530833124, mean squared error: 15.626887448706048\n",
      "Features 3, Target 2, Elastic Net \n",
      " max error: -17.68638745735972, mean absolute error: 3.050487490818305, r2: 0.4259094985924727, mean squared error: 17.887287437143826\n",
      "Features 3, Target 2, Random Forest \n",
      " max error: -14.38332197150795, mean absolute error: 2.3088568046245936, r2: 0.5933723818239173, mean squared error: 12.719436910401871\n",
      "Features 3, Target 3, Linear Regression \n",
      " max error: -17.176799211990975, mean absolute error: 2.719059324469586, r2: 0.49667481847429223, mean squared error: 15.632809954786087\n",
      "Features 3, Target 3, LASSO \n",
      " max error: -17.375502997836897, mean absolute error: 3.0004174100370222, r2: 0.4443818797040171, mean squared error: 17.280307959295378\n",
      "Features 3, Target 3, Ridge \n",
      " max error: -17.175840219275212, mean absolute error: 2.7180817493256675, r2: 0.4969634530833124, mean squared error: 15.626887448706048\n",
      "Features 3, Target 3, Elastic Net \n",
      " max error: -17.68638745735972, mean absolute error: 3.050487490818305, r2: 0.4259094985924727, mean squared error: 17.887287437143826\n",
      "Features 3, Target 3, Random Forest \n",
      " max error: -14.68180569985243, mean absolute error: 2.3170489123633895, r2: 0.5903393096132767, mean squared error: 12.769959072954856\n"
     ]
    }
   ],
   "execution_count": 35
  },
  {
   "metadata": {
    "ExecuteTime": {
     "end_time": "2024-04-07T17:41:16.178691Z",
     "start_time": "2024-04-07T17:41:16.175846Z"
    }
   },
   "cell_type": "code",
   "source": [
    "for i in range(len(results)):\n",
    "    if 'Random Forest' in results[i]: \n",
    "        print(results[i])"
   ],
   "id": "421feb4e4538fbbf",
   "outputs": [
    {
     "name": "stdout",
     "output_type": "stream",
     "text": [
      "Features 1, Target 1, Random Forest \n",
      " max error: -14.400276004715696, mean absolute error: 2.316780534071259, r2: 0.5931132491708857, mean squared error: 12.816152913963169\n",
      "Features 1, Target 2, Random Forest \n",
      " max error: -14.525548678499883, mean absolute error: 2.3204952069297393, r2: 0.589315440897982, mean squared error: 12.967514977942182\n",
      "Features 1, Target 3, Random Forest \n",
      " max error: -14.478763068773342, mean absolute error: 2.328485755657595, r2: 0.5933713297085361, mean squared error: 12.762353992980868\n",
      "Features 2, Target 1, Random Forest \n",
      " max error: -14.173230233666123, mean absolute error: 2.299700117026439, r2: 0.5943714012819233, mean squared error: 12.764809935215165\n",
      "Features 2, Target 2, Random Forest \n",
      " max error: -14.503462538529396, mean absolute error: 2.3243827328406135, r2: 0.5882565008870555, mean squared error: 12.786065061051897\n",
      "Features 2, Target 3, Random Forest \n",
      " max error: -14.693729956082999, mean absolute error: 2.31803902075156, r2: 0.5871294022051405, mean squared error: 12.856110543919687\n",
      "Features 3, Target 1, Random Forest \n",
      " max error: -14.181792806615167, mean absolute error: 2.3207641196935707, r2: 0.5906663785441684, mean squared error: 12.824090051648401\n",
      "Features 3, Target 2, Random Forest \n",
      " max error: -14.38332197150795, mean absolute error: 2.3088568046245936, r2: 0.5933723818239173, mean squared error: 12.719436910401871\n",
      "Features 3, Target 3, Random Forest \n",
      " max error: -14.68180569985243, mean absolute error: 2.3170489123633895, r2: 0.5903393096132767, mean squared error: 12.769959072954856\n"
     ]
    }
   ],
   "execution_count": 36
  },
  {
   "metadata": {},
   "cell_type": "code",
   "outputs": [],
   "execution_count": null,
   "source": "",
   "id": "c44722bf5ff510e6"
  }
 ],
 "metadata": {
  "kernelspec": {
   "display_name": "Python 3",
   "language": "python",
   "name": "python3"
  },
  "language_info": {
   "codemirror_mode": {
    "name": "ipython",
    "version": 2
   },
   "file_extension": ".py",
   "mimetype": "text/x-python",
   "name": "python",
   "nbconvert_exporter": "python",
   "pygments_lexer": "ipython2",
   "version": "2.7.6"
  }
 },
 "nbformat": 4,
 "nbformat_minor": 5
}
