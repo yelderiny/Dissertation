{
 "cells": [
  {
   "cell_type": "code",
   "id": "initial_id",
   "metadata": {
    "collapsed": true,
    "ExecuteTime": {
     "end_time": "2024-04-07T21:44:40.203291Z",
     "start_time": "2024-04-07T21:44:40.200722Z"
    }
   },
   "source": [
    "import pandas as pd\n",
    "from sklearn.ensemble import RandomForestRegressor\n",
    "from sklearn.model_selection import cross_val_score\n",
    "from sklearn.model_selection import KFold\n",
    "from sklearn.linear_model import LinearRegression, ElasticNet, Lasso, Ridge"
   ],
   "outputs": [],
   "execution_count": 37
  },
  {
   "cell_type": "code",
   "source": [
    "df = pd.read_csv('/Users/yelderiny/Projects/Dissertation/Data/processed-data3-outliers-capped.csv')\n",
    "df.head()"
   ],
   "metadata": {
    "collapsed": false,
    "ExecuteTime": {
     "end_time": "2024-04-07T21:44:40.217653Z",
     "start_time": "2024-04-07T21:44:40.205228Z"
    }
   },
   "id": "816b55a6d3d0a06b",
   "outputs": [
    {
     "data": {
      "text/plain": [
       "   pull_requests      size  contributors       age  contributor_xp1  \\\n",
       "0      -0.441351 -0.155899     -0.607450 -1.390139        -0.760476   \n",
       "1      -0.400284 -0.376812     -0.652329 -1.466477        -0.328626   \n",
       "2      -0.362050 -0.151038     -0.320222 -0.155424         0.086355   \n",
       "3      -0.483834 -0.386834     -0.760040 -0.782989        -0.686626   \n",
       "4      -0.462592 -0.296117     -0.553595 -0.751034        -0.794964   \n",
       "\n",
       "   contributor_xp2  contributor_xp3  language_C++  language_Go  language_Java  \\\n",
       "0        -0.749159        -0.714005             0            0              1   \n",
       "1        -0.353298        -0.621405             0            0              1   \n",
       "2         0.059615        -0.026675             0            0              1   \n",
       "3        -0.703280        -0.850148             0            0              1   \n",
       "4        -0.803970        -0.871093             0            0              1   \n",
       "\n",
       "   language_JavaScript  language_Python  language_Swift  language_TypeScript  \\\n",
       "0                    0                0               0                    0   \n",
       "1                    0                0               0                    0   \n",
       "2                    0                0               0                    0   \n",
       "3                    0                0               0                    0   \n",
       "4                    0                0               0                    0   \n",
       "\n",
       "   pr_points1  pr_points2  pr_points3  \n",
       "0       2.271       2.389       2.377  \n",
       "1       3.390       3.318       2.749  \n",
       "2       4.006       3.668       3.544  \n",
       "3       3.281       2.569       3.257  \n",
       "4       4.867       4.833       5.186  "
      ],
      "text/html": [
       "<div>\n",
       "<style scoped>\n",
       "    .dataframe tbody tr th:only-of-type {\n",
       "        vertical-align: middle;\n",
       "    }\n",
       "\n",
       "    .dataframe tbody tr th {\n",
       "        vertical-align: top;\n",
       "    }\n",
       "\n",
       "    .dataframe thead th {\n",
       "        text-align: right;\n",
       "    }\n",
       "</style>\n",
       "<table border=\"1\" class=\"dataframe\">\n",
       "  <thead>\n",
       "    <tr style=\"text-align: right;\">\n",
       "      <th></th>\n",
       "      <th>pull_requests</th>\n",
       "      <th>size</th>\n",
       "      <th>contributors</th>\n",
       "      <th>age</th>\n",
       "      <th>contributor_xp1</th>\n",
       "      <th>contributor_xp2</th>\n",
       "      <th>contributor_xp3</th>\n",
       "      <th>language_C++</th>\n",
       "      <th>language_Go</th>\n",
       "      <th>language_Java</th>\n",
       "      <th>language_JavaScript</th>\n",
       "      <th>language_Python</th>\n",
       "      <th>language_Swift</th>\n",
       "      <th>language_TypeScript</th>\n",
       "      <th>pr_points1</th>\n",
       "      <th>pr_points2</th>\n",
       "      <th>pr_points3</th>\n",
       "    </tr>\n",
       "  </thead>\n",
       "  <tbody>\n",
       "    <tr>\n",
       "      <th>0</th>\n",
       "      <td>-0.441351</td>\n",
       "      <td>-0.155899</td>\n",
       "      <td>-0.607450</td>\n",
       "      <td>-1.390139</td>\n",
       "      <td>-0.760476</td>\n",
       "      <td>-0.749159</td>\n",
       "      <td>-0.714005</td>\n",
       "      <td>0</td>\n",
       "      <td>0</td>\n",
       "      <td>1</td>\n",
       "      <td>0</td>\n",
       "      <td>0</td>\n",
       "      <td>0</td>\n",
       "      <td>0</td>\n",
       "      <td>2.271</td>\n",
       "      <td>2.389</td>\n",
       "      <td>2.377</td>\n",
       "    </tr>\n",
       "    <tr>\n",
       "      <th>1</th>\n",
       "      <td>-0.400284</td>\n",
       "      <td>-0.376812</td>\n",
       "      <td>-0.652329</td>\n",
       "      <td>-1.466477</td>\n",
       "      <td>-0.328626</td>\n",
       "      <td>-0.353298</td>\n",
       "      <td>-0.621405</td>\n",
       "      <td>0</td>\n",
       "      <td>0</td>\n",
       "      <td>1</td>\n",
       "      <td>0</td>\n",
       "      <td>0</td>\n",
       "      <td>0</td>\n",
       "      <td>0</td>\n",
       "      <td>3.390</td>\n",
       "      <td>3.318</td>\n",
       "      <td>2.749</td>\n",
       "    </tr>\n",
       "    <tr>\n",
       "      <th>2</th>\n",
       "      <td>-0.362050</td>\n",
       "      <td>-0.151038</td>\n",
       "      <td>-0.320222</td>\n",
       "      <td>-0.155424</td>\n",
       "      <td>0.086355</td>\n",
       "      <td>0.059615</td>\n",
       "      <td>-0.026675</td>\n",
       "      <td>0</td>\n",
       "      <td>0</td>\n",
       "      <td>1</td>\n",
       "      <td>0</td>\n",
       "      <td>0</td>\n",
       "      <td>0</td>\n",
       "      <td>0</td>\n",
       "      <td>4.006</td>\n",
       "      <td>3.668</td>\n",
       "      <td>3.544</td>\n",
       "    </tr>\n",
       "    <tr>\n",
       "      <th>3</th>\n",
       "      <td>-0.483834</td>\n",
       "      <td>-0.386834</td>\n",
       "      <td>-0.760040</td>\n",
       "      <td>-0.782989</td>\n",
       "      <td>-0.686626</td>\n",
       "      <td>-0.703280</td>\n",
       "      <td>-0.850148</td>\n",
       "      <td>0</td>\n",
       "      <td>0</td>\n",
       "      <td>1</td>\n",
       "      <td>0</td>\n",
       "      <td>0</td>\n",
       "      <td>0</td>\n",
       "      <td>0</td>\n",
       "      <td>3.281</td>\n",
       "      <td>2.569</td>\n",
       "      <td>3.257</td>\n",
       "    </tr>\n",
       "    <tr>\n",
       "      <th>4</th>\n",
       "      <td>-0.462592</td>\n",
       "      <td>-0.296117</td>\n",
       "      <td>-0.553595</td>\n",
       "      <td>-0.751034</td>\n",
       "      <td>-0.794964</td>\n",
       "      <td>-0.803970</td>\n",
       "      <td>-0.871093</td>\n",
       "      <td>0</td>\n",
       "      <td>0</td>\n",
       "      <td>1</td>\n",
       "      <td>0</td>\n",
       "      <td>0</td>\n",
       "      <td>0</td>\n",
       "      <td>0</td>\n",
       "      <td>4.867</td>\n",
       "      <td>4.833</td>\n",
       "      <td>5.186</td>\n",
       "    </tr>\n",
       "  </tbody>\n",
       "</table>\n",
       "</div>"
      ]
     },
     "execution_count": 38,
     "metadata": {},
     "output_type": "execute_result"
    }
   ],
   "execution_count": 38
  },
  {
   "cell_type": "code",
   "source": [
    "features1 = df.drop(columns=['pr_points1', 'pr_points2', 'pr_points3', 'contributor_xp2', 'contributor_xp3'], axis=1)\n",
    "features2 = df.drop(columns=['pr_points1', 'pr_points2', 'pr_points3', 'contributor_xp1', 'contributor_xp3'], axis=1)\n",
    "features3 = df.drop(columns=['pr_points1', 'pr_points2', 'pr_points3', 'contributor_xp1', 'contributor_xp2'], axis=1)\n",
    "target1 = df['pr_points1']\n",
    "target2 = df['pr_points2']\n",
    "target3 = df['pr_points3']"
   ],
   "metadata": {
    "collapsed": false,
    "ExecuteTime": {
     "end_time": "2024-04-07T21:44:40.221624Z",
     "start_time": "2024-04-07T21:44:40.218498Z"
    }
   },
   "id": "e57ec14571fac594",
   "outputs": [],
   "execution_count": 39
  },
  {
   "cell_type": "code",
   "source": [
    "max_error_scoring = \"max_error\"\n",
    "neg_mean_absolute_error_scoring = \"neg_mean_absolute_error\"\n",
    "r2_scoring = \"r2\"\n",
    "neg_mean_squared_error_scoring = \"neg_mean_squared_error\""
   ],
   "metadata": {
    "collapsed": false,
    "ExecuteTime": {
     "end_time": "2024-04-07T21:44:40.223949Z",
     "start_time": "2024-04-07T21:44:40.222134Z"
    }
   },
   "id": "7746085ed8fffb63",
   "outputs": [],
   "execution_count": 40
  },
  {
   "metadata": {
    "ExecuteTime": {
     "end_time": "2024-04-07T21:44:40.226655Z",
     "start_time": "2024-04-07T21:44:40.224982Z"
    }
   },
   "cell_type": "code",
   "source": [
    "features1.name = 'Features 1'\n",
    "features2.name = 'Features 2'\n",
    "features3.name = 'Features 3'\n",
    "target1.name = 'Target 1'\n",
    "target2.name = 'Target 2'\n",
    "target3.name = 'Target 3'"
   ],
   "id": "6928efc8ebaf9a44",
   "outputs": [],
   "execution_count": 41
  },
  {
   "metadata": {
    "ExecuteTime": {
     "end_time": "2024-04-07T21:44:40.229003Z",
     "start_time": "2024-04-07T21:44:40.227150Z"
    }
   },
   "cell_type": "code",
   "source": [
    "features = [features1, features2, features3]\n",
    "targets = [target1, target2, target3]\n",
    "model = RandomForestRegressor()\n",
    "results = []"
   ],
   "id": "42b087fcd80b6f76",
   "outputs": [],
   "execution_count": 42
  },
  {
   "metadata": {
    "ExecuteTime": {
     "end_time": "2024-04-07T21:45:28.265516Z",
     "start_time": "2024-04-07T21:44:40.229495Z"
    }
   },
   "cell_type": "code",
   "source": [
    "for feature in features:\n",
    "    for target in targets:\n",
    "        print(f'{feature.name}, {target.name}')\n",
    "        kfold = KFold(n_splits=10, shuffle=True, random_state=386)\n",
    "        cv_results3 = cross_val_score(model, features1, target1, cv=kfold, scoring=r2_scoring)\n",
    "        results.append((feature.name, target.name, cv_results3.mean()))"
   ],
   "id": "d76ec7b7a9d394e",
   "outputs": [
    {
     "name": "stdout",
     "output_type": "stream",
     "text": [
      "Features 1, Target 1\n",
      "Features 1, Target 2\n",
      "Features 1, Target 3\n",
      "Features 2, Target 1\n",
      "Features 2, Target 2\n",
      "Features 2, Target 3\n",
      "Features 3, Target 1\n",
      "Features 3, Target 2\n",
      "Features 3, Target 3\n"
     ]
    }
   ],
   "execution_count": 43
  },
  {
   "metadata": {
    "ExecuteTime": {
     "end_time": "2024-04-07T21:45:28.268141Z",
     "start_time": "2024-04-07T21:45:28.266382Z"
    }
   },
   "cell_type": "code",
   "source": [
    "for result in results:\n",
    "    print(result)"
   ],
   "id": "c44722bf5ff510e6",
   "outputs": [
    {
     "name": "stdout",
     "output_type": "stream",
     "text": [
      "('Features 1', 'Target 1', 0.5992428187538791)\n",
      "('Features 1', 'Target 2', 0.599595942381393)\n",
      "('Features 1', 'Target 3', 0.6022009892818097)\n",
      "('Features 2', 'Target 1', 0.5984567006549039)\n",
      "('Features 2', 'Target 2', 0.5948966270973618)\n",
      "('Features 2', 'Target 3', 0.5965528909605082)\n",
      "('Features 3', 'Target 1', 0.6013111971391878)\n",
      "('Features 3', 'Target 2', 0.5977783416118304)\n",
      "('Features 3', 'Target 3', 0.5999748810486605)\n"
     ]
    }
   ],
   "execution_count": 44
  }
 ],
 "metadata": {
  "kernelspec": {
   "display_name": "Python 3",
   "language": "python",
   "name": "python3"
  },
  "language_info": {
   "codemirror_mode": {
    "name": "ipython",
    "version": 2
   },
   "file_extension": ".py",
   "mimetype": "text/x-python",
   "name": "python",
   "nbconvert_exporter": "python",
   "pygments_lexer": "ipython2",
   "version": "2.7.6"
  }
 },
 "nbformat": 4,
 "nbformat_minor": 5
}
