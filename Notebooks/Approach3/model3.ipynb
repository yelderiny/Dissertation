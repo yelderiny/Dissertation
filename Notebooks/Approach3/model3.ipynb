{
 "cells": [
  {
   "cell_type": "code",
   "id": "initial_id",
   "metadata": {
    "collapsed": true,
    "ExecuteTime": {
     "end_time": "2024-04-07T21:42:34.657578Z",
     "start_time": "2024-04-07T21:42:34.654193Z"
    }
   },
   "source": [
    "import pandas as pd\n",
    "from sklearn.ensemble import RandomForestRegressor\n",
    "from sklearn.model_selection import cross_val_score\n",
    "from sklearn.model_selection import KFold\n",
    "from sklearn.linear_model import LinearRegression, ElasticNet, Lasso, Ridge"
   ],
   "outputs": [],
   "execution_count": 219
  },
  {
   "cell_type": "code",
   "source": [
    "df = pd.read_csv('/Users/yelderiny/Projects/Dissertation/Data/processed-data3.csv')\n",
    "df.head()"
   ],
   "metadata": {
    "collapsed": false,
    "ExecuteTime": {
     "end_time": "2024-04-07T21:42:34.676625Z",
     "start_time": "2024-04-07T21:42:34.665208Z"
    }
   },
   "id": "816b55a6d3d0a06b",
   "outputs": [
    {
     "data": {
      "text/plain": [
       "   pull_requests      size  contributors       age  contributor_xp1  \\\n",
       "0      -0.299689 -0.126432     -0.605191 -1.390139        -0.721174   \n",
       "1      -0.276385 -0.234160     -0.649719 -1.466477        -0.322326   \n",
       "2      -0.254689 -0.124061     -0.320208 -0.155424         0.060942   \n",
       "3      -0.323796 -0.239047     -0.756588 -0.782989        -0.652968   \n",
       "4      -0.311742 -0.194809     -0.551756 -0.751034        -0.753026   \n",
       "\n",
       "   contributor_xp2  contributor_xp3  language_C++  language_Go  language_Java  \\\n",
       "0        -0.710998        -0.684408             0            0              1   \n",
       "1        -0.345167        -0.597730             0            0              1   \n",
       "2         0.036422        -0.041027             0            0              1   \n",
       "3        -0.668599        -0.811847             0            0              1   \n",
       "4        -0.761651        -0.831452             0            0              1   \n",
       "\n",
       "   language_JavaScript  language_Python  language_Swift  language_TypeScript  \\\n",
       "0                    0                0               0                    0   \n",
       "1                    0                0               0                    0   \n",
       "2                    0                0               0                    0   \n",
       "3                    0                0               0                    0   \n",
       "4                    0                0               0                    0   \n",
       "\n",
       "   pr_points1  pr_points2  pr_points3  \n",
       "0       2.271       2.389       2.377  \n",
       "1       3.390       3.318       2.749  \n",
       "2       4.006       3.668       3.544  \n",
       "3       3.281       2.569       3.257  \n",
       "4       4.867       4.833       5.186  "
      ],
      "text/html": [
       "<div>\n",
       "<style scoped>\n",
       "    .dataframe tbody tr th:only-of-type {\n",
       "        vertical-align: middle;\n",
       "    }\n",
       "\n",
       "    .dataframe tbody tr th {\n",
       "        vertical-align: top;\n",
       "    }\n",
       "\n",
       "    .dataframe thead th {\n",
       "        text-align: right;\n",
       "    }\n",
       "</style>\n",
       "<table border=\"1\" class=\"dataframe\">\n",
       "  <thead>\n",
       "    <tr style=\"text-align: right;\">\n",
       "      <th></th>\n",
       "      <th>pull_requests</th>\n",
       "      <th>size</th>\n",
       "      <th>contributors</th>\n",
       "      <th>age</th>\n",
       "      <th>contributor_xp1</th>\n",
       "      <th>contributor_xp2</th>\n",
       "      <th>contributor_xp3</th>\n",
       "      <th>language_C++</th>\n",
       "      <th>language_Go</th>\n",
       "      <th>language_Java</th>\n",
       "      <th>language_JavaScript</th>\n",
       "      <th>language_Python</th>\n",
       "      <th>language_Swift</th>\n",
       "      <th>language_TypeScript</th>\n",
       "      <th>pr_points1</th>\n",
       "      <th>pr_points2</th>\n",
       "      <th>pr_points3</th>\n",
       "    </tr>\n",
       "  </thead>\n",
       "  <tbody>\n",
       "    <tr>\n",
       "      <th>0</th>\n",
       "      <td>-0.299689</td>\n",
       "      <td>-0.126432</td>\n",
       "      <td>-0.605191</td>\n",
       "      <td>-1.390139</td>\n",
       "      <td>-0.721174</td>\n",
       "      <td>-0.710998</td>\n",
       "      <td>-0.684408</td>\n",
       "      <td>0</td>\n",
       "      <td>0</td>\n",
       "      <td>1</td>\n",
       "      <td>0</td>\n",
       "      <td>0</td>\n",
       "      <td>0</td>\n",
       "      <td>0</td>\n",
       "      <td>2.271</td>\n",
       "      <td>2.389</td>\n",
       "      <td>2.377</td>\n",
       "    </tr>\n",
       "    <tr>\n",
       "      <th>1</th>\n",
       "      <td>-0.276385</td>\n",
       "      <td>-0.234160</td>\n",
       "      <td>-0.649719</td>\n",
       "      <td>-1.466477</td>\n",
       "      <td>-0.322326</td>\n",
       "      <td>-0.345167</td>\n",
       "      <td>-0.597730</td>\n",
       "      <td>0</td>\n",
       "      <td>0</td>\n",
       "      <td>1</td>\n",
       "      <td>0</td>\n",
       "      <td>0</td>\n",
       "      <td>0</td>\n",
       "      <td>0</td>\n",
       "      <td>3.390</td>\n",
       "      <td>3.318</td>\n",
       "      <td>2.749</td>\n",
       "    </tr>\n",
       "    <tr>\n",
       "      <th>2</th>\n",
       "      <td>-0.254689</td>\n",
       "      <td>-0.124061</td>\n",
       "      <td>-0.320208</td>\n",
       "      <td>-0.155424</td>\n",
       "      <td>0.060942</td>\n",
       "      <td>0.036422</td>\n",
       "      <td>-0.041027</td>\n",
       "      <td>0</td>\n",
       "      <td>0</td>\n",
       "      <td>1</td>\n",
       "      <td>0</td>\n",
       "      <td>0</td>\n",
       "      <td>0</td>\n",
       "      <td>0</td>\n",
       "      <td>4.006</td>\n",
       "      <td>3.668</td>\n",
       "      <td>3.544</td>\n",
       "    </tr>\n",
       "    <tr>\n",
       "      <th>3</th>\n",
       "      <td>-0.323796</td>\n",
       "      <td>-0.239047</td>\n",
       "      <td>-0.756588</td>\n",
       "      <td>-0.782989</td>\n",
       "      <td>-0.652968</td>\n",
       "      <td>-0.668599</td>\n",
       "      <td>-0.811847</td>\n",
       "      <td>0</td>\n",
       "      <td>0</td>\n",
       "      <td>1</td>\n",
       "      <td>0</td>\n",
       "      <td>0</td>\n",
       "      <td>0</td>\n",
       "      <td>0</td>\n",
       "      <td>3.281</td>\n",
       "      <td>2.569</td>\n",
       "      <td>3.257</td>\n",
       "    </tr>\n",
       "    <tr>\n",
       "      <th>4</th>\n",
       "      <td>-0.311742</td>\n",
       "      <td>-0.194809</td>\n",
       "      <td>-0.551756</td>\n",
       "      <td>-0.751034</td>\n",
       "      <td>-0.753026</td>\n",
       "      <td>-0.761651</td>\n",
       "      <td>-0.831452</td>\n",
       "      <td>0</td>\n",
       "      <td>0</td>\n",
       "      <td>1</td>\n",
       "      <td>0</td>\n",
       "      <td>0</td>\n",
       "      <td>0</td>\n",
       "      <td>0</td>\n",
       "      <td>4.867</td>\n",
       "      <td>4.833</td>\n",
       "      <td>5.186</td>\n",
       "    </tr>\n",
       "  </tbody>\n",
       "</table>\n",
       "</div>"
      ]
     },
     "execution_count": 220,
     "metadata": {},
     "output_type": "execute_result"
    }
   ],
   "execution_count": 220
  },
  {
   "cell_type": "code",
   "source": [
    "features1 = df.drop(columns=['pr_points1', 'pr_points2', 'pr_points3', 'contributor_xp2', 'contributor_xp3'], axis=1)\n",
    "features2 = df.drop(columns=['pr_points1', 'pr_points2', 'pr_points3', 'contributor_xp1', 'contributor_xp3'], axis=1)\n",
    "features3 = df.drop(columns=['pr_points1', 'pr_points2', 'pr_points3', 'contributor_xp1', 'contributor_xp2'], axis=1)\n",
    "target1 = df['pr_points1']\n",
    "target2 = df['pr_points2']\n",
    "target3 = df['pr_points3']"
   ],
   "metadata": {
    "collapsed": false,
    "ExecuteTime": {
     "end_time": "2024-04-07T21:42:34.680746Z",
     "start_time": "2024-04-07T21:42:34.677548Z"
    }
   },
   "id": "e57ec14571fac594",
   "outputs": [],
   "execution_count": 221
  },
  {
   "cell_type": "code",
   "source": [
    "max_error_scoring = \"max_error\"\n",
    "neg_mean_absolute_error_scoring = \"neg_mean_absolute_error\"\n",
    "r2_scoring = \"r2\"\n",
    "neg_mean_squared_error_scoring = \"neg_mean_squared_error\""
   ],
   "metadata": {
    "collapsed": false,
    "ExecuteTime": {
     "end_time": "2024-04-07T21:42:34.683327Z",
     "start_time": "2024-04-07T21:42:34.681400Z"
    }
   },
   "id": "7746085ed8fffb63",
   "outputs": [],
   "execution_count": 222
  },
  {
   "metadata": {
    "ExecuteTime": {
     "end_time": "2024-04-07T21:42:34.686161Z",
     "start_time": "2024-04-07T21:42:34.684507Z"
    }
   },
   "cell_type": "code",
   "source": [
    "features1.name = 'Features 1'\n",
    "features2.name = 'Features 2'\n",
    "features3.name = 'Features 3'\n",
    "target1.name = 'Target 1'\n",
    "target2.name = 'Target 2'\n",
    "target3.name = 'Target 3'"
   ],
   "id": "6928efc8ebaf9a44",
   "outputs": [],
   "execution_count": 223
  },
  {
   "metadata": {
    "ExecuteTime": {
     "end_time": "2024-04-07T21:42:34.688348Z",
     "start_time": "2024-04-07T21:42:34.686852Z"
    }
   },
   "cell_type": "code",
   "source": [
    "features = [features1, features2, features3]\n",
    "targets = [target1, target2, target3]\n",
    "model = RandomForestRegressor()\n",
    "results = []"
   ],
   "id": "42b087fcd80b6f76",
   "outputs": [],
   "execution_count": 224
  },
  {
   "metadata": {
    "ExecuteTime": {
     "end_time": "2024-04-07T21:43:23.507379Z",
     "start_time": "2024-04-07T21:42:34.688855Z"
    }
   },
   "cell_type": "code",
   "source": [
    "for feature in features:\n",
    "    for target in targets:\n",
    "        print(f'{feature.name}, {target.name}')\n",
    "        kfold = KFold(n_splits=10, shuffle=True, random_state=465)\n",
    "        cv_results3 = cross_val_score(model, features1, target1, cv=kfold, scoring=r2_scoring)\n",
    "        results.append((feature.name, target.name, cv_results3.mean()))"
   ],
   "id": "d76ec7b7a9d394e",
   "outputs": [
    {
     "name": "stdout",
     "output_type": "stream",
     "text": [
      "Features 1, Target 1\n",
      "Features 1, Target 2\n",
      "Features 1, Target 3\n",
      "Features 2, Target 1\n",
      "Features 2, Target 2\n",
      "Features 2, Target 3\n",
      "Features 3, Target 1\n",
      "Features 3, Target 2\n",
      "Features 3, Target 3\n"
     ]
    }
   ],
   "execution_count": 225
  },
  {
   "metadata": {
    "ExecuteTime": {
     "end_time": "2024-04-07T21:46:36.702440Z",
     "start_time": "2024-04-07T21:46:36.699425Z"
    }
   },
   "cell_type": "code",
   "source": [
    "results.sort(key=lambda x: x[2], reverse=True)\n",
    "for result in results:\n",
    "    print(result)"
   ],
   "id": "3bf979693c6377a0",
   "outputs": [
    {
     "name": "stdout",
     "output_type": "stream",
     "text": [
      "('Features 1', 'Target 3', 0.5282289517145374)\n",
      "('Features 3', 'Target 3', 0.5260536985432479)\n",
      "('Features 2', 'Target 1', 0.5233253002430626)\n",
      "('Features 2', 'Target 3', 0.5201874328897651)\n",
      "('Features 3', 'Target 1', 0.5192648479855245)\n",
      "('Features 2', 'Target 2', 0.5192092516783285)\n",
      "('Features 3', 'Target 2', 0.5154335500159506)\n",
      "('Features 1', 'Target 2', 0.5135391995037574)\n",
      "('Features 1', 'Target 1', 0.5108918327640783)\n"
     ]
    }
   ],
   "execution_count": 227
  },
  {
   "metadata": {},
   "cell_type": "code",
   "outputs": [],
   "execution_count": null,
   "source": "",
   "id": "6d80c10dc4bb953"
  }
 ],
 "metadata": {
  "kernelspec": {
   "display_name": "Python 3",
   "language": "python",
   "name": "python3"
  },
  "language_info": {
   "codemirror_mode": {
    "name": "ipython",
    "version": 2
   },
   "file_extension": ".py",
   "mimetype": "text/x-python",
   "name": "python",
   "nbconvert_exporter": "python",
   "pygments_lexer": "ipython2",
   "version": "2.7.6"
  }
 },
 "nbformat": 4,
 "nbformat_minor": 5
}
