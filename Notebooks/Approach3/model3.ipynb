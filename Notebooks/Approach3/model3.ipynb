{
 "cells": [
  {
   "cell_type": "code",
   "id": "initial_id",
   "metadata": {
    "collapsed": true,
    "ExecuteTime": {
     "end_time": "2024-04-07T17:30:20.625592Z",
     "start_time": "2024-04-07T17:30:20.623311Z"
    }
   },
   "source": [
    "import pandas as pd\n",
    "from sklearn.ensemble import RandomForestRegressor\n",
    "from sklearn.model_selection import cross_val_score\n",
    "from sklearn.model_selection import KFold\n",
    "from sklearn.linear_model import LinearRegression, ElasticNet, Lasso, Ridge"
   ],
   "outputs": [],
   "execution_count": 195
  },
  {
   "cell_type": "code",
   "source": [
    "df = pd.read_csv('/Users/yelderiny/Projects/Dissertation/Data/processed-data3.csv')\n",
    "df.head()"
   ],
   "metadata": {
    "collapsed": false,
    "ExecuteTime": {
     "end_time": "2024-04-07T17:30:20.637270Z",
     "start_time": "2024-04-07T17:30:20.626826Z"
    }
   },
   "id": "816b55a6d3d0a06b",
   "outputs": [
    {
     "data": {
      "text/plain": [
       "   pull_requests      size  contributors       age  contributor_xp1  \\\n",
       "0      -0.299689 -0.126432     -0.605191 -1.390139        -0.721174   \n",
       "1      -0.276385 -0.234160     -0.649719 -1.466477        -0.322326   \n",
       "2      -0.254689 -0.124061     -0.320208 -0.155424         0.060942   \n",
       "3      -0.323796 -0.239047     -0.756588 -0.782989        -0.652968   \n",
       "4      -0.311742 -0.194809     -0.551756 -0.751034        -0.753026   \n",
       "\n",
       "   contributor_xp2  contributor_xp3  language_C++  language_Go  language_Java  \\\n",
       "0        -0.710998        -0.684408             0            0              1   \n",
       "1        -0.345167        -0.597730             0            0              1   \n",
       "2         0.036422        -0.041027             0            0              1   \n",
       "3        -0.668599        -0.811847             0            0              1   \n",
       "4        -0.761651        -0.831452             0            0              1   \n",
       "\n",
       "   language_JavaScript  language_Python  language_Swift  language_TypeScript  \\\n",
       "0                    0                0               0                    0   \n",
       "1                    0                0               0                    0   \n",
       "2                    0                0               0                    0   \n",
       "3                    0                0               0                    0   \n",
       "4                    0                0               0                    0   \n",
       "\n",
       "   pr_points1  pr_points2  pr_points3  \n",
       "0       2.271       2.389       2.377  \n",
       "1       3.390       3.318       2.749  \n",
       "2       4.006       3.668       3.544  \n",
       "3       3.281       2.569       3.257  \n",
       "4       4.867       4.833       5.186  "
      ],
      "text/html": [
       "<div>\n",
       "<style scoped>\n",
       "    .dataframe tbody tr th:only-of-type {\n",
       "        vertical-align: middle;\n",
       "    }\n",
       "\n",
       "    .dataframe tbody tr th {\n",
       "        vertical-align: top;\n",
       "    }\n",
       "\n",
       "    .dataframe thead th {\n",
       "        text-align: right;\n",
       "    }\n",
       "</style>\n",
       "<table border=\"1\" class=\"dataframe\">\n",
       "  <thead>\n",
       "    <tr style=\"text-align: right;\">\n",
       "      <th></th>\n",
       "      <th>pull_requests</th>\n",
       "      <th>size</th>\n",
       "      <th>contributors</th>\n",
       "      <th>age</th>\n",
       "      <th>contributor_xp1</th>\n",
       "      <th>contributor_xp2</th>\n",
       "      <th>contributor_xp3</th>\n",
       "      <th>language_C++</th>\n",
       "      <th>language_Go</th>\n",
       "      <th>language_Java</th>\n",
       "      <th>language_JavaScript</th>\n",
       "      <th>language_Python</th>\n",
       "      <th>language_Swift</th>\n",
       "      <th>language_TypeScript</th>\n",
       "      <th>pr_points1</th>\n",
       "      <th>pr_points2</th>\n",
       "      <th>pr_points3</th>\n",
       "    </tr>\n",
       "  </thead>\n",
       "  <tbody>\n",
       "    <tr>\n",
       "      <th>0</th>\n",
       "      <td>-0.299689</td>\n",
       "      <td>-0.126432</td>\n",
       "      <td>-0.605191</td>\n",
       "      <td>-1.390139</td>\n",
       "      <td>-0.721174</td>\n",
       "      <td>-0.710998</td>\n",
       "      <td>-0.684408</td>\n",
       "      <td>0</td>\n",
       "      <td>0</td>\n",
       "      <td>1</td>\n",
       "      <td>0</td>\n",
       "      <td>0</td>\n",
       "      <td>0</td>\n",
       "      <td>0</td>\n",
       "      <td>2.271</td>\n",
       "      <td>2.389</td>\n",
       "      <td>2.377</td>\n",
       "    </tr>\n",
       "    <tr>\n",
       "      <th>1</th>\n",
       "      <td>-0.276385</td>\n",
       "      <td>-0.234160</td>\n",
       "      <td>-0.649719</td>\n",
       "      <td>-1.466477</td>\n",
       "      <td>-0.322326</td>\n",
       "      <td>-0.345167</td>\n",
       "      <td>-0.597730</td>\n",
       "      <td>0</td>\n",
       "      <td>0</td>\n",
       "      <td>1</td>\n",
       "      <td>0</td>\n",
       "      <td>0</td>\n",
       "      <td>0</td>\n",
       "      <td>0</td>\n",
       "      <td>3.390</td>\n",
       "      <td>3.318</td>\n",
       "      <td>2.749</td>\n",
       "    </tr>\n",
       "    <tr>\n",
       "      <th>2</th>\n",
       "      <td>-0.254689</td>\n",
       "      <td>-0.124061</td>\n",
       "      <td>-0.320208</td>\n",
       "      <td>-0.155424</td>\n",
       "      <td>0.060942</td>\n",
       "      <td>0.036422</td>\n",
       "      <td>-0.041027</td>\n",
       "      <td>0</td>\n",
       "      <td>0</td>\n",
       "      <td>1</td>\n",
       "      <td>0</td>\n",
       "      <td>0</td>\n",
       "      <td>0</td>\n",
       "      <td>0</td>\n",
       "      <td>4.006</td>\n",
       "      <td>3.668</td>\n",
       "      <td>3.544</td>\n",
       "    </tr>\n",
       "    <tr>\n",
       "      <th>3</th>\n",
       "      <td>-0.323796</td>\n",
       "      <td>-0.239047</td>\n",
       "      <td>-0.756588</td>\n",
       "      <td>-0.782989</td>\n",
       "      <td>-0.652968</td>\n",
       "      <td>-0.668599</td>\n",
       "      <td>-0.811847</td>\n",
       "      <td>0</td>\n",
       "      <td>0</td>\n",
       "      <td>1</td>\n",
       "      <td>0</td>\n",
       "      <td>0</td>\n",
       "      <td>0</td>\n",
       "      <td>0</td>\n",
       "      <td>3.281</td>\n",
       "      <td>2.569</td>\n",
       "      <td>3.257</td>\n",
       "    </tr>\n",
       "    <tr>\n",
       "      <th>4</th>\n",
       "      <td>-0.311742</td>\n",
       "      <td>-0.194809</td>\n",
       "      <td>-0.551756</td>\n",
       "      <td>-0.751034</td>\n",
       "      <td>-0.753026</td>\n",
       "      <td>-0.761651</td>\n",
       "      <td>-0.831452</td>\n",
       "      <td>0</td>\n",
       "      <td>0</td>\n",
       "      <td>1</td>\n",
       "      <td>0</td>\n",
       "      <td>0</td>\n",
       "      <td>0</td>\n",
       "      <td>0</td>\n",
       "      <td>4.867</td>\n",
       "      <td>4.833</td>\n",
       "      <td>5.186</td>\n",
       "    </tr>\n",
       "  </tbody>\n",
       "</table>\n",
       "</div>"
      ]
     },
     "execution_count": 196,
     "metadata": {},
     "output_type": "execute_result"
    }
   ],
   "execution_count": 196
  },
  {
   "cell_type": "code",
   "source": [
    "features1 = df.drop(columns=['pr_points1', 'pr_points2', 'pr_points3', 'contributor_xp2', 'contributor_xp3'], axis=1)\n",
    "features2 = df.drop(columns=['pr_points1', 'pr_points2', 'pr_points3', 'contributor_xp1', 'contributor_xp3'], axis=1)\n",
    "features3 = df.drop(columns=['pr_points1', 'pr_points2', 'pr_points3', 'contributor_xp1', 'contributor_xp2'], axis=1)\n",
    "target1 = df['pr_points1']\n",
    "target2 = df['pr_points2']\n",
    "target3 = df['pr_points3']"
   ],
   "metadata": {
    "collapsed": false,
    "ExecuteTime": {
     "end_time": "2024-04-07T17:30:20.641186Z",
     "start_time": "2024-04-07T17:30:20.638184Z"
    }
   },
   "id": "e57ec14571fac594",
   "outputs": [],
   "execution_count": 197
  },
  {
   "cell_type": "code",
   "source": [
    "max_error_scoring = \"max_error\"\n",
    "neg_mean_absolute_error_scoring = \"neg_mean_absolute_error\"\n",
    "r2_scoring = \"r2\"\n",
    "neg_mean_squared_error_scoring = \"neg_mean_squared_error\""
   ],
   "metadata": {
    "collapsed": false,
    "ExecuteTime": {
     "end_time": "2024-04-07T17:30:20.644234Z",
     "start_time": "2024-04-07T17:30:20.642526Z"
    }
   },
   "id": "7746085ed8fffb63",
   "outputs": [],
   "execution_count": 198
  },
  {
   "cell_type": "code",
   "source": [
    "models = [\n",
    "    ('Linear Regression', LinearRegression()),\n",
    "    ('LASSO', Lasso()),\n",
    "    ('Ridge', Ridge()),\n",
    "    ('Elastic Net', ElasticNet()),\n",
    "    ('Random Forest', RandomForestRegressor())\n",
    "]"
   ],
   "metadata": {
    "collapsed": false,
    "ExecuteTime": {
     "end_time": "2024-04-07T17:30:20.646578Z",
     "start_time": "2024-04-07T17:30:20.644888Z"
    }
   },
   "id": "b2bc8943a2a8fd81",
   "outputs": [],
   "execution_count": 199
  },
  {
   "metadata": {
    "ExecuteTime": {
     "end_time": "2024-04-07T17:30:20.648977Z",
     "start_time": "2024-04-07T17:30:20.647094Z"
    }
   },
   "cell_type": "code",
   "source": [
    "features1.name = 'Features 1'\n",
    "features2.name = 'Features 2'\n",
    "features3.name = 'Features 3'\n",
    "target1.name = 'Target 1'\n",
    "target2.name = 'Target 2'\n",
    "target3.name = 'Target 3'"
   ],
   "id": "6928efc8ebaf9a44",
   "outputs": [],
   "execution_count": 200
  },
  {
   "metadata": {
    "ExecuteTime": {
     "end_time": "2024-04-07T17:30:20.652017Z",
     "start_time": "2024-04-07T17:30:20.649730Z"
    }
   },
   "cell_type": "code",
   "source": [
    "features = [features1, features2, features3]\n",
    "targets = [target1, target2, target3]\n",
    "results = []"
   ],
   "id": "42b087fcd80b6f76",
   "outputs": [],
   "execution_count": 201
  },
  {
   "metadata": {
    "ExecuteTime": {
     "end_time": "2024-04-07T17:33:44.860412Z",
     "start_time": "2024-04-07T17:30:20.652558Z"
    }
   },
   "cell_type": "code",
   "source": [
    "for feature in features:\n",
    "    for target in targets:\n",
    "        for name, model in models:\n",
    "            print(f'{feature.name}, {target.name}, {name}')\n",
    "            kfold = KFold(n_splits=10, shuffle=True, random_state=817)\n",
    "            cv_results1 = cross_val_score(model, features1, target1, cv=kfold, scoring=max_error_scoring)\n",
    "            cv_results2 = cross_val_score(model, features1, target1, cv=kfold, scoring=neg_mean_absolute_error_scoring)\n",
    "            cv_results3 = cross_val_score(model, features1, target1, cv=kfold, scoring=r2_scoring)\n",
    "            cv_results4 = cross_val_score(model, features1, target1, cv=kfold, scoring=neg_mean_squared_error_scoring)    \n",
    "            msg = f'{feature.name}, {target.name}, {name} \\n max error: {cv_results1.mean()}, mean absolute error: {-cv_results2.mean()}, r2: {cv_results3.mean()}, mean squared error: {-cv_results4.mean()}'\n",
    "            results.append(msg)"
   ],
   "id": "d76ec7b7a9d394e",
   "outputs": [
    {
     "name": "stdout",
     "output_type": "stream",
     "text": [
      "Features 1, Target 1, Linear Regression\n",
      "Features 1, Target 1, LASSO\n",
      "Features 1, Target 1, Ridge\n",
      "Features 1, Target 1, Elastic Net\n",
      "Features 1, Target 1, Random Forest\n",
      "Features 1, Target 2, Linear Regression\n",
      "Features 1, Target 2, LASSO\n",
      "Features 1, Target 2, Ridge\n",
      "Features 1, Target 2, Elastic Net\n",
      "Features 1, Target 2, Random Forest\n",
      "Features 1, Target 3, Linear Regression\n",
      "Features 1, Target 3, LASSO\n",
      "Features 1, Target 3, Ridge\n",
      "Features 1, Target 3, Elastic Net\n",
      "Features 1, Target 3, Random Forest\n",
      "Features 2, Target 1, Linear Regression\n",
      "Features 2, Target 1, LASSO\n",
      "Features 2, Target 1, Ridge\n",
      "Features 2, Target 1, Elastic Net\n",
      "Features 2, Target 1, Random Forest\n",
      "Features 2, Target 2, Linear Regression\n",
      "Features 2, Target 2, LASSO\n",
      "Features 2, Target 2, Ridge\n",
      "Features 2, Target 2, Elastic Net\n",
      "Features 2, Target 2, Random Forest\n",
      "Features 2, Target 3, Linear Regression\n",
      "Features 2, Target 3, LASSO\n",
      "Features 2, Target 3, Ridge\n",
      "Features 2, Target 3, Elastic Net\n",
      "Features 2, Target 3, Random Forest\n",
      "Features 3, Target 1, Linear Regression\n",
      "Features 3, Target 1, LASSO\n",
      "Features 3, Target 1, Ridge\n",
      "Features 3, Target 1, Elastic Net\n",
      "Features 3, Target 1, Random Forest\n",
      "Features 3, Target 2, Linear Regression\n",
      "Features 3, Target 2, LASSO\n",
      "Features 3, Target 2, Ridge\n",
      "Features 3, Target 2, Elastic Net\n",
      "Features 3, Target 2, Random Forest\n",
      "Features 3, Target 3, Linear Regression\n",
      "Features 3, Target 3, LASSO\n",
      "Features 3, Target 3, Ridge\n",
      "Features 3, Target 3, Elastic Net\n",
      "Features 3, Target 3, Random Forest\n"
     ]
    }
   ],
   "execution_count": 202
  },
  {
   "metadata": {
    "ExecuteTime": {
     "end_time": "2024-04-07T17:37:29.501048Z",
     "start_time": "2024-04-07T17:37:29.498862Z"
    }
   },
   "cell_type": "code",
   "source": [
    "for i in range(len(results)):\n",
    "    if i % 15 == 0 and i != 0: \n",
    "        print()\n",
    "    print(results[i])"
   ],
   "id": "3bf979693c6377a0",
   "outputs": [
    {
     "name": "stdout",
     "output_type": "stream",
     "text": [
      "Features 1, Target 1, Linear Regression \n",
      " max error: -35.32776705506901, mean absolute error: 3.1378229152728623, r2: 0.3287832639006848, mean squared error: 27.96940006547275\n",
      "Features 1, Target 1, LASSO \n",
      " max error: -34.30431278261946, mean absolute error: 3.376524224264031, r2: 0.3300963256131496, mean squared error: 28.304629879152127\n",
      "Features 1, Target 1, Ridge \n",
      " max error: -35.32387731547923, mean absolute error: 3.137645573138806, r2: 0.3291088671362486, mean squared error: 27.96295224754298\n",
      "Features 1, Target 1, Elastic Net \n",
      " max error: -33.11113074037595, mean absolute error: 3.4070067030422813, r2: 0.3382732963121676, mean squared error: 28.053753586309103\n",
      "Features 1, Target 1, Random Forest \n",
      " max error: -26.537736000000002, mean absolute error: 2.5064904284518006, r2: 0.5418165808285738, mean squared error: 19.006386034084237\n",
      "Features 1, Target 2, Linear Regression \n",
      " max error: -35.32776705506901, mean absolute error: 3.1378229152728623, r2: 0.3287832639006848, mean squared error: 27.96940006547275\n",
      "Features 1, Target 2, LASSO \n",
      " max error: -34.30431278261946, mean absolute error: 3.376524224264031, r2: 0.3300963256131496, mean squared error: 28.304629879152127\n",
      "Features 1, Target 2, Ridge \n",
      " max error: -35.32387731547923, mean absolute error: 3.137645573138806, r2: 0.3291088671362486, mean squared error: 27.96295224754298\n",
      "Features 1, Target 2, Elastic Net \n",
      " max error: -33.11113074037595, mean absolute error: 3.4070067030422813, r2: 0.3382732963121676, mean squared error: 28.053753586309103\n",
      "Features 1, Target 2, Random Forest \n",
      " max error: -26.293028, mean absolute error: 2.521031050687158, r2: 0.5325109567642536, mean squared error: 19.489372261227366\n",
      "Features 1, Target 3, Linear Regression \n",
      " max error: -35.32776705506901, mean absolute error: 3.1378229152728623, r2: 0.3287832639006848, mean squared error: 27.96940006547275\n",
      "Features 1, Target 3, LASSO \n",
      " max error: -34.30431278261946, mean absolute error: 3.376524224264031, r2: 0.3300963256131496, mean squared error: 28.304629879152127\n",
      "Features 1, Target 3, Ridge \n",
      " max error: -35.32387731547923, mean absolute error: 3.137645573138806, r2: 0.3291088671362486, mean squared error: 27.96295224754298\n",
      "Features 1, Target 3, Elastic Net \n",
      " max error: -33.11113074037595, mean absolute error: 3.4070067030422813, r2: 0.3382732963121676, mean squared error: 28.053753586309103\n",
      "Features 1, Target 3, Random Forest \n",
      " max error: -26.265145999999998, mean absolute error: 2.5227798135806117, r2: 0.5427034541295123, mean squared error: 19.043406381112916\n",
      "\n",
      "Features 2, Target 1, Linear Regression \n",
      " max error: -35.32776705506901, mean absolute error: 3.1378229152728623, r2: 0.3287832639006848, mean squared error: 27.96940006547275\n",
      "Features 2, Target 1, LASSO \n",
      " max error: -34.30431278261946, mean absolute error: 3.376524224264031, r2: 0.3300963256131496, mean squared error: 28.304629879152127\n",
      "Features 2, Target 1, Ridge \n",
      " max error: -35.32387731547923, mean absolute error: 3.137645573138806, r2: 0.3291088671362486, mean squared error: 27.96295224754298\n",
      "Features 2, Target 1, Elastic Net \n",
      " max error: -33.11113074037595, mean absolute error: 3.4070067030422813, r2: 0.3382732963121676, mean squared error: 28.053753586309103\n",
      "Features 2, Target 1, Random Forest \n",
      " max error: -26.072204999999997, mean absolute error: 2.509498077680903, r2: 0.5445933759206557, mean squared error: 18.73557752087824\n",
      "Features 2, Target 2, Linear Regression \n",
      " max error: -35.32776705506901, mean absolute error: 3.1378229152728623, r2: 0.3287832639006848, mean squared error: 27.96940006547275\n",
      "Features 2, Target 2, LASSO \n",
      " max error: -34.30431278261946, mean absolute error: 3.376524224264031, r2: 0.3300963256131496, mean squared error: 28.304629879152127\n",
      "Features 2, Target 2, Ridge \n",
      " max error: -35.32387731547923, mean absolute error: 3.137645573138806, r2: 0.3291088671362486, mean squared error: 27.96295224754298\n",
      "Features 2, Target 2, Elastic Net \n",
      " max error: -33.11113074037595, mean absolute error: 3.4070067030422813, r2: 0.3382732963121676, mean squared error: 28.053753586309103\n",
      "Features 2, Target 2, Random Forest \n",
      " max error: -26.781052, mean absolute error: 2.519291115733215, r2: 0.5401962321485232, mean squared error: 19.421670698784837\n",
      "Features 2, Target 3, Linear Regression \n",
      " max error: -35.32776705506901, mean absolute error: 3.1378229152728623, r2: 0.3287832639006848, mean squared error: 27.96940006547275\n",
      "Features 2, Target 3, LASSO \n",
      " max error: -34.30431278261946, mean absolute error: 3.376524224264031, r2: 0.3300963256131496, mean squared error: 28.304629879152127\n",
      "Features 2, Target 3, Ridge \n",
      " max error: -35.32387731547923, mean absolute error: 3.137645573138806, r2: 0.3291088671362486, mean squared error: 27.96295224754298\n",
      "Features 2, Target 3, Elastic Net \n",
      " max error: -33.11113074037595, mean absolute error: 3.4070067030422813, r2: 0.3382732963121676, mean squared error: 28.053753586309103\n",
      "Features 2, Target 3, Random Forest \n",
      " max error: -25.595016, mean absolute error: 2.502059743707206, r2: 0.5336387904617398, mean squared error: 19.277915169954916\n",
      "\n",
      "Features 3, Target 1, Linear Regression \n",
      " max error: -35.32776705506901, mean absolute error: 3.1378229152728623, r2: 0.3287832639006848, mean squared error: 27.96940006547275\n",
      "Features 3, Target 1, LASSO \n",
      " max error: -34.30431278261946, mean absolute error: 3.376524224264031, r2: 0.3300963256131496, mean squared error: 28.304629879152127\n",
      "Features 3, Target 1, Ridge \n",
      " max error: -35.32387731547923, mean absolute error: 3.137645573138806, r2: 0.3291088671362486, mean squared error: 27.96295224754298\n",
      "Features 3, Target 1, Elastic Net \n",
      " max error: -33.11113074037595, mean absolute error: 3.4070067030422813, r2: 0.3382732963121676, mean squared error: 28.053753586309103\n",
      "Features 3, Target 1, Random Forest \n",
      " max error: -26.199565, mean absolute error: 2.5098141706319885, r2: 0.5489291997329115, mean squared error: 19.250997080505762\n",
      "Features 3, Target 2, Linear Regression \n",
      " max error: -35.32776705506901, mean absolute error: 3.1378229152728623, r2: 0.3287832639006848, mean squared error: 27.96940006547275\n",
      "Features 3, Target 2, LASSO \n",
      " max error: -34.30431278261946, mean absolute error: 3.376524224264031, r2: 0.3300963256131496, mean squared error: 28.304629879152127\n",
      "Features 3, Target 2, Ridge \n",
      " max error: -35.32387731547923, mean absolute error: 3.137645573138806, r2: 0.3291088671362486, mean squared error: 27.96295224754298\n",
      "Features 3, Target 2, Elastic Net \n",
      " max error: -33.11113074037595, mean absolute error: 3.4070067030422813, r2: 0.3382732963121676, mean squared error: 28.053753586309103\n",
      "Features 3, Target 2, Random Forest \n",
      " max error: -26.456674000000003, mean absolute error: 2.513499459829565, r2: 0.53643664206026, mean squared error: 19.302366773296313\n",
      "Features 3, Target 3, Linear Regression \n",
      " max error: -35.32776705506901, mean absolute error: 3.1378229152728623, r2: 0.3287832639006848, mean squared error: 27.96940006547275\n",
      "Features 3, Target 3, LASSO \n",
      " max error: -34.30431278261946, mean absolute error: 3.376524224264031, r2: 0.3300963256131496, mean squared error: 28.304629879152127\n",
      "Features 3, Target 3, Ridge \n",
      " max error: -35.32387731547923, mean absolute error: 3.137645573138806, r2: 0.3291088671362486, mean squared error: 27.96295224754298\n",
      "Features 3, Target 3, Elastic Net \n",
      " max error: -33.11113074037595, mean absolute error: 3.4070067030422813, r2: 0.3382732963121676, mean squared error: 28.053753586309103\n",
      "Features 3, Target 3, Random Forest \n",
      " max error: -26.048556999999995, mean absolute error: 2.5231778274222942, r2: 0.5359887342298335, mean squared error: 19.10370147224038\n"
     ]
    }
   ],
   "execution_count": 207
  },
  {
   "metadata": {
    "ExecuteTime": {
     "end_time": "2024-04-07T17:40:00.710086Z",
     "start_time": "2024-04-07T17:40:00.707831Z"
    }
   },
   "cell_type": "code",
   "source": [
    "for i in range(len(results)):\n",
    "    if 'Random Forest' in results[i]: \n",
    "        print(results[i])"
   ],
   "id": "f278af8e8c2910ea",
   "outputs": [
    {
     "name": "stdout",
     "output_type": "stream",
     "text": [
      "Features 1, Target 1, Random Forest \n",
      " max error: -26.537736000000002, mean absolute error: 2.5064904284518006, r2: 0.5418165808285738, mean squared error: 19.006386034084237\n",
      "Features 1, Target 2, Random Forest \n",
      " max error: -26.293028, mean absolute error: 2.521031050687158, r2: 0.5325109567642536, mean squared error: 19.489372261227366\n",
      "Features 1, Target 3, Random Forest \n",
      " max error: -26.265145999999998, mean absolute error: 2.5227798135806117, r2: 0.5427034541295123, mean squared error: 19.043406381112916\n",
      "Features 2, Target 1, Random Forest \n",
      " max error: -26.072204999999997, mean absolute error: 2.509498077680903, r2: 0.5445933759206557, mean squared error: 18.73557752087824\n",
      "Features 2, Target 2, Random Forest \n",
      " max error: -26.781052, mean absolute error: 2.519291115733215, r2: 0.5401962321485232, mean squared error: 19.421670698784837\n",
      "Features 2, Target 3, Random Forest \n",
      " max error: -25.595016, mean absolute error: 2.502059743707206, r2: 0.5336387904617398, mean squared error: 19.277915169954916\n",
      "Features 3, Target 1, Random Forest \n",
      " max error: -26.199565, mean absolute error: 2.5098141706319885, r2: 0.5489291997329115, mean squared error: 19.250997080505762\n",
      "Features 3, Target 2, Random Forest \n",
      " max error: -26.456674000000003, mean absolute error: 2.513499459829565, r2: 0.53643664206026, mean squared error: 19.302366773296313\n",
      "Features 3, Target 3, Random Forest \n",
      " max error: -26.048556999999995, mean absolute error: 2.5231778274222942, r2: 0.5359887342298335, mean squared error: 19.10370147224038\n"
     ]
    }
   ],
   "execution_count": 210
  }
 ],
 "metadata": {
  "kernelspec": {
   "display_name": "Python 3",
   "language": "python",
   "name": "python3"
  },
  "language_info": {
   "codemirror_mode": {
    "name": "ipython",
    "version": 2
   },
   "file_extension": ".py",
   "mimetype": "text/x-python",
   "name": "python",
   "nbconvert_exporter": "python",
   "pygments_lexer": "ipython2",
   "version": "2.7.6"
  }
 },
 "nbformat": 4,
 "nbformat_minor": 5
}
