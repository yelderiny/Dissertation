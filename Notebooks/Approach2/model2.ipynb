{
 "cells": [
  {
   "cell_type": "code",
   "execution_count": 1,
   "id": "initial_id",
   "metadata": {
    "collapsed": true,
    "ExecuteTime": {
     "end_time": "2024-03-12T17:43:14.949944Z",
     "start_time": "2024-03-12T17:43:14.253703Z"
    }
   },
   "outputs": [],
   "source": [
    "import pandas as pd\n",
    "from sklearn.ensemble import RandomForestRegressor\n",
    "from sklearn.model_selection import cross_val_score\n",
    "from sklearn.model_selection import KFold\n",
    "from sklearn.linear_model import LinearRegression, ElasticNet, Lasso, Ridge"
   ]
  },
  {
   "cell_type": "code",
   "outputs": [],
   "source": [
    "df = pd.read_csv('/Users/yelderiny/Projects/Dissertation/Data/processed-data-swift.csv', index_col=[0])"
   ],
   "metadata": {
    "collapsed": false,
    "ExecuteTime": {
     "end_time": "2024-03-12T17:43:14.955265Z",
     "start_time": "2024-03-12T17:43:14.950723Z"
    }
   },
   "id": "816b55a6d3d0a06b",
   "execution_count": 2
  },
  {
   "cell_type": "code",
   "outputs": [],
   "source": [
    "features1 = df.drop(columns=['pr_points1', 'pr_points2', 'pr_points3', 'contributor_xp2', 'contributor_xp3'], axis=1)\n",
    "features2 = df.drop(columns=['pr_points1', 'pr_points2', 'pr_points3', 'contributor_xp1', 'contributor_xp3'], axis=1)\n",
    "features3 = df.drop(columns=['pr_points1', 'pr_points2', 'pr_points3', 'contributor_xp1', 'contributor_xp2'], axis=1)\n",
    "target1 = df['pr_points1']\n",
    "target2 = df['pr_points2']\n",
    "target3 = df['pr_points3']"
   ],
   "metadata": {
    "collapsed": false,
    "ExecuteTime": {
     "end_time": "2024-03-12T17:43:14.959032Z",
     "start_time": "2024-03-12T17:43:14.955869Z"
    }
   },
   "id": "e57ec14571fac594",
   "execution_count": 3
  },
  {
   "cell_type": "code",
   "outputs": [],
   "source": [
    "max_error_scoring = \"max_error\"\n",
    "neg_mean_absolute_error_scoring = \"neg_mean_absolute_error\"\n",
    "r2_scoring = \"r2\"\n",
    "neg_mean_squared_error_scoring = \"neg_mean_squared_error\""
   ],
   "metadata": {
    "collapsed": false,
    "ExecuteTime": {
     "end_time": "2024-03-12T17:43:14.961518Z",
     "start_time": "2024-03-12T17:43:14.959806Z"
    }
   },
   "id": "7746085ed8fffb63",
   "execution_count": 4
  },
  {
   "cell_type": "code",
   "outputs": [],
   "source": [
    "models = [\n",
    "    ('Linear Regression', LinearRegression()),\n",
    "    ('Random Forest', RandomForestRegressor()),\n",
    "    ('LASSO', Lasso()),\n",
    "    ('Ridge', Ridge()),\n",
    "    ('Elastic Net', ElasticNet()),\n",
    "]"
   ],
   "metadata": {
    "collapsed": false,
    "ExecuteTime": {
     "end_time": "2024-03-12T17:43:14.963740Z",
     "start_time": "2024-03-12T17:43:14.962147Z"
    }
   },
   "id": "b2bc8943a2a8fd81",
   "execution_count": 5
  },
  {
   "cell_type": "code",
   "outputs": [
    {
     "name": "stdout",
     "output_type": "stream",
     "text": [
      "Linear Regression \n",
      " max error: -19.233571575426257 \n",
      " mean absolute error: 1.544744289142501 \n",
      " r2: -0.26465887284754364 \n",
      " mean squared error: 12.978266589934728 \n",
      " ------------------------------\n",
      "Random Forest \n",
      " max error: -15.777982 \n",
      " mean absolute error: 1.201259128161312 \n",
      " r2: 0.2895025012607019 \n",
      " mean squared error: 9.54489694516764 \n",
      " ------------------------------\n",
      "LASSO \n",
      " max error: -16.64762381122294 \n",
      " mean absolute error: 1.6590501445436736 \n",
      " r2: 0.14678423594060402 \n",
      " mean squared error: 10.99687145642513 \n",
      " ------------------------------\n",
      "Ridge \n",
      " max error: -19.19793036753559 \n",
      " mean absolute error: 1.5441378115889983 \n",
      " r2: -0.25860333285539955 \n",
      " mean squared error: 12.936794068425428 \n",
      " ------------------------------\n",
      "Elastic Net \n",
      " max error: -16.354732243094897 \n",
      " mean absolute error: 1.5780311313684474 \n",
      " r2: 0.20872907826757636 \n",
      " mean squared error: 10.268215094252676 \n",
      " ------------------------------\n"
     ]
    }
   ],
   "source": [
    "for name, model in models:\n",
    "    kfold = KFold(n_splits=10, shuffle=True, random_state=42)\n",
    "    cv_results1 = cross_val_score(model, features1, target1, cv=kfold, scoring=max_error_scoring)\n",
    "    cv_results2 = cross_val_score(model, features1, target1, cv=kfold, scoring=neg_mean_absolute_error_scoring)\n",
    "    cv_results3 = cross_val_score(model, features1, target1, cv=kfold, scoring=r2_scoring)\n",
    "    cv_results4 = cross_val_score(model, features1, target1, cv=kfold, scoring=neg_mean_squared_error_scoring)\n",
    "    msg = f\"{name} \\n max error: {cv_results1.mean()} \\n mean absolute error: {-cv_results2.mean()} \\n r2: {cv_results3.mean()} \\n mean squared error: {-cv_results4.mean()}\"\n",
    "    print(msg, '\\n', '-' * 30)"
   ],
   "metadata": {
    "collapsed": false,
    "ExecuteTime": {
     "end_time": "2024-03-12T17:43:22.087605Z",
     "start_time": "2024-03-12T17:43:14.964455Z"
    }
   },
   "id": "6929b5fa0d6ef48c",
   "execution_count": 6
  },
  {
   "cell_type": "code",
   "outputs": [
    {
     "name": "stdout",
     "output_type": "stream",
     "text": [
      "Linear Regression \n",
      " max error: -14.122710255287208 \n",
      " mean absolute error: 1.368090813657369 \n",
      " r2: -0.13993921809363713 \n",
      " mean squared error: 6.8871097575260745 \n",
      " ------------------------------\n",
      "Random Forest \n",
      " max error: -10.815537999999998 \n",
      " mean absolute error: 1.0771665625427205 \n",
      " r2: 0.39205503571918904 \n",
      " mean squared error: 3.9296295134267907 \n",
      " ------------------------------\n",
      "LASSO \n",
      " max error: -12.741571190936607 \n",
      " mean absolute error: 1.5286362215590423 \n",
      " r2: 0.06481102905448019 \n",
      " mean squared error: 6.120618850579074 \n",
      " ------------------------------\n",
      "Ridge \n",
      " max error: -14.101128993317536 \n",
      " mean absolute error: 1.3678371245181562 \n",
      " r2: -0.13527280515569032 \n",
      " mean squared error: 6.862377196638292 \n",
      " ------------------------------\n",
      "Elastic Net \n",
      " max error: -11.993632313783216 \n",
      " mean absolute error: 1.4322927707941515 \n",
      " r2: 0.15912062181822392 \n",
      " mean squared error: 5.50270213403307 \n",
      " ------------------------------\n"
     ]
    }
   ],
   "source": [
    "for name, model in models:\n",
    "    kfold = KFold(n_splits=10, shuffle=True, random_state=42)\n",
    "    cv_results1 = cross_val_score(model, features1, target2, cv=kfold, scoring=max_error_scoring)\n",
    "    cv_results2 = cross_val_score(model, features1, target2, cv=kfold, scoring=neg_mean_absolute_error_scoring)\n",
    "    cv_results3 = cross_val_score(model, features1, target2, cv=kfold, scoring=r2_scoring)\n",
    "    cv_results4 = cross_val_score(model, features1, target2, cv=kfold, scoring=neg_mean_squared_error_scoring)\n",
    "    msg = f\"{name} \\n max error: {cv_results1.mean()} \\n mean absolute error: {-cv_results2.mean()} \\n r2: {cv_results3.mean()} \\n mean squared error: {-cv_results4.mean()}\"\n",
    "    print(msg, '\\n', '-' * 30)"
   ],
   "metadata": {
    "collapsed": false,
    "ExecuteTime": {
     "end_time": "2024-03-12T17:43:29.137484Z",
     "start_time": "2024-03-12T17:43:22.088479Z"
    }
   },
   "id": "739f6f0a18527695",
   "execution_count": 7
  },
  {
   "cell_type": "code",
   "outputs": [
    {
     "name": "stdout",
     "output_type": "stream",
     "text": [
      "Linear Regression \n",
      " max error: -24.663835431299905 \n",
      " mean absolute error: 1.719897901757958 \n",
      " r2: -0.37179021247838867 \n",
      " mean squared error: 21.239261231350163 \n",
      " ------------------------------\n",
      "Random Forest \n",
      " max error: -25.335840999999995 \n",
      " mean absolute error: 1.4081118116883116 \n",
      " r2: 0.09972724299787912 \n",
      " mean squared error: 17.81745182756477 \n",
      " ------------------------------\n",
      "LASSO \n",
      " max error: -21.36451264422653 \n",
      " mean absolute error: 1.7695203541808275 \n",
      " r2: 0.16059714741852166 \n",
      " mean squared error: 18.40208851360247 \n",
      " ------------------------------\n",
      "Ridge \n",
      " max error: -24.61754829179568 \n",
      " mean absolute error: 1.718923801792115 \n",
      " r2: -0.3651698499795962 \n",
      " mean squared error: 21.185218083312353 \n",
      " ------------------------------\n",
      "Elastic Net \n",
      " max error: -21.25673632879634 \n",
      " mean absolute error: 1.7012733743507826 \n",
      " r2: 0.20527179185555103 \n",
      " mean squared error: 17.548245249864745 \n",
      " ------------------------------\n"
     ]
    }
   ],
   "source": [
    "for name, model in models:\n",
    "    kfold = KFold(n_splits=10, shuffle=True, random_state=42)\n",
    "    cv_results1 = cross_val_score(model, features1, target3, cv=kfold, scoring=max_error_scoring)\n",
    "    cv_results2 = cross_val_score(model, features1, target3, cv=kfold, scoring=neg_mean_absolute_error_scoring)\n",
    "    cv_results3 = cross_val_score(model, features1, target3, cv=kfold, scoring=r2_scoring)\n",
    "    cv_results4 = cross_val_score(model, features1, target3, cv=kfold, scoring=neg_mean_squared_error_scoring)\n",
    "    msg = f\"{name} \\n max error: {cv_results1.mean()} \\n mean absolute error: {-cv_results2.mean()} \\n r2: {cv_results3.mean()} \\n mean squared error: {-cv_results4.mean()}\"\n",
    "    print(msg, '\\n', '-' * 30)"
   ],
   "metadata": {
    "collapsed": false,
    "ExecuteTime": {
     "end_time": "2024-03-12T17:43:36.352781Z",
     "start_time": "2024-03-12T17:43:29.138393Z"
    }
   },
   "id": "8178a70654b7f2e8",
   "execution_count": 8
  },
  {
   "cell_type": "code",
   "outputs": [
    {
     "name": "stdout",
     "output_type": "stream",
     "text": [
      "Linear Regression \n",
      " max error: -19.24832467166093 \n",
      " mean absolute error: 1.5441862397441017 \n",
      " r2: -0.26555225744619076 \n",
      " mean squared error: 12.987920597877984 \n",
      " ------------------------------\n",
      "Random Forest \n",
      " max error: -16.179333 \n",
      " mean absolute error: 1.1874486748120299 \n",
      " r2: 0.2861391303315447 \n",
      " mean squared error: 8.806632894736257 \n",
      " ------------------------------\n",
      "LASSO \n",
      " max error: -16.64762381122294 \n",
      " mean absolute error: 1.6590501445436736 \n",
      " r2: 0.14678423594060402 \n",
      " mean squared error: 10.99687145642513 \n",
      " ------------------------------\n",
      "Ridge \n",
      " max error: -19.212578099742366 \n",
      " mean absolute error: 1.543579512586661 \n",
      " r2: -0.2594812283253622 \n",
      " mean squared error: 12.946318294628266 \n",
      " ------------------------------\n",
      "Elastic Net \n",
      " max error: -16.355477964496448 \n",
      " mean absolute error: 1.5776201931054918 \n",
      " r2: 0.20884669943407969 \n",
      " mean squared error: 10.266773048165078 \n",
      " ------------------------------\n"
     ]
    }
   ],
   "source": [
    "for name, model in models:\n",
    "    kfold = KFold(n_splits=10, shuffle=True, random_state=42)\n",
    "    cv_results1 = cross_val_score(model, features2, target1, cv=kfold, scoring=max_error_scoring)\n",
    "    cv_results2 = cross_val_score(model, features2, target1, cv=kfold, scoring=neg_mean_absolute_error_scoring)\n",
    "    cv_results3 = cross_val_score(model, features2, target1, cv=kfold, scoring=r2_scoring)\n",
    "    cv_results4 = cross_val_score(model, features2, target1, cv=kfold, scoring=neg_mean_squared_error_scoring)\n",
    "    msg = f\"{name} \\n max error: {cv_results1.mean()} \\n mean absolute error: {-cv_results2.mean()} \\n r2: {cv_results3.mean()} \\n mean squared error: {-cv_results4.mean()}\"\n",
    "    print(msg, '\\n', '-' * 30)"
   ],
   "metadata": {
    "collapsed": false,
    "ExecuteTime": {
     "end_time": "2024-03-12T17:43:43.672705Z",
     "start_time": "2024-03-12T17:43:36.353742Z"
    }
   },
   "id": "931315e85e2c0a9f",
   "execution_count": 9
  },
  {
   "cell_type": "code",
   "outputs": [
    {
     "name": "stdout",
     "output_type": "stream",
     "text": [
      "Linear Regression \n",
      " max error: -14.13919738927657 \n",
      " mean absolute error: 1.3677021194030767 \n",
      " r2: -0.14009490850282705 \n",
      " mean squared error: 6.889954357379817 \n",
      " ------------------------------\n",
      "Random Forest \n",
      " max error: -10.854612999999999 \n",
      " mean absolute error: 1.085605737696514 \n",
      " r2: 0.4216714464619316 \n",
      " mean squared error: 3.9654908055531743 \n",
      " ------------------------------\n",
      "LASSO \n",
      " max error: -12.741571190936607 \n",
      " mean absolute error: 1.5286362215590423 \n",
      " r2: 0.06481102905448019 \n",
      " mean squared error: 6.120618850579074 \n",
      " ------------------------------\n",
      "Ridge \n",
      " max error: -14.11756869060412 \n",
      " mean absolute error: 1.3674475691906385 \n",
      " r2: -0.13542859776395733 \n",
      " mean squared error: 6.865208520714196 \n",
      " ------------------------------\n",
      "Elastic Net \n",
      " max error: -11.996102901169028 \n",
      " mean absolute error: 1.4317693766715922 \n",
      " r2: 0.15927244693310816 \n",
      " mean squared error: 5.501924185618413 \n",
      " ------------------------------\n"
     ]
    }
   ],
   "source": [
    "for name, model in models:\n",
    "    kfold = KFold(n_splits=10, shuffle=True, random_state=42)\n",
    "    cv_results1 = cross_val_score(model, features2, target2, cv=kfold, scoring=max_error_scoring)\n",
    "    cv_results2 = cross_val_score(model, features2, target2, cv=kfold, scoring=neg_mean_absolute_error_scoring)\n",
    "    cv_results3 = cross_val_score(model, features2, target2, cv=kfold, scoring=r2_scoring)\n",
    "    cv_results4 = cross_val_score(model, features2, target2, cv=kfold, scoring=neg_mean_squared_error_scoring)\n",
    "    msg = f\"{name} \\n max error: {cv_results1.mean()} \\n mean absolute error: {-cv_results2.mean()} \\n r2: {cv_results3.mean()} \\n mean squared error: {-cv_results4.mean()}\"\n",
    "    print(msg, '\\n', '-' * 30)"
   ],
   "metadata": {
    "collapsed": false,
    "ExecuteTime": {
     "end_time": "2024-03-12T17:43:50.759324Z",
     "start_time": "2024-03-12T17:43:43.675344Z"
    }
   },
   "id": "84feb161ba2b9574",
   "execution_count": 10
  },
  {
   "cell_type": "code",
   "outputs": [
    {
     "name": "stdout",
     "output_type": "stream",
     "text": [
      "Linear Regression \n",
      " max error: -24.684442729591403 \n",
      " mean absolute error: 1.7192586261907803 \n",
      " r2: -0.3734805916621974 \n",
      " mean squared error: 21.260680284408544 \n",
      " ------------------------------\n",
      "Random Forest \n",
      " max error: -24.443570999999995 \n",
      " mean absolute error: 1.4124895411825018 \n",
      " r2: 0.0905973209503308 \n",
      " mean squared error: 18.61399847280519 \n",
      " ------------------------------\n",
      "LASSO \n",
      " max error: -21.36451264422653 \n",
      " mean absolute error: 1.7695203541808275 \n",
      " r2: 0.16059714741852166 \n",
      " mean squared error: 18.40208851360247 \n",
      " ------------------------------\n",
      "Ridge \n",
      " max error: -24.637889948361327 \n",
      " mean absolute error: 1.7182757735383585 \n",
      " r2: -0.36682699762515114 \n",
      " mean squared error: 21.206301634838997 \n",
      " ------------------------------\n",
      "Elastic Net \n",
      " max error: -21.257492868934328 \n",
      " mean absolute error: 1.7008688590006287 \n",
      " r2: 0.20537844479439196 \n",
      " mean squared error: 17.547805036684572 \n",
      " ------------------------------\n"
     ]
    }
   ],
   "source": [
    "for name, model in models:\n",
    "    kfold = KFold(n_splits=10, shuffle=True, random_state=42)\n",
    "    cv_results1 = cross_val_score(model, features2, target3, cv=kfold, scoring=max_error_scoring)\n",
    "    cv_results2 = cross_val_score(model, features2, target3, cv=kfold, scoring=neg_mean_absolute_error_scoring)\n",
    "    cv_results3 = cross_val_score(model, features2, target3, cv=kfold, scoring=r2_scoring)\n",
    "    cv_results4 = cross_val_score(model, features2, target3, cv=kfold, scoring=neg_mean_squared_error_scoring)\n",
    "    msg = f\"{name} \\n max error: {cv_results1.mean()} \\n mean absolute error: {-cv_results2.mean()} \\n r2: {cv_results3.mean()} \\n mean squared error: {-cv_results4.mean()}\"\n",
    "    print(msg, '\\n', '-' * 30)"
   ],
   "metadata": {
    "collapsed": false,
    "ExecuteTime": {
     "end_time": "2024-03-12T17:43:57.934416Z",
     "start_time": "2024-03-12T17:43:50.760034Z"
    }
   },
   "id": "7133bc5c951565b1",
   "execution_count": 11
  },
  {
   "cell_type": "code",
   "outputs": [
    {
     "name": "stdout",
     "output_type": "stream",
     "text": [
      "Linear Regression \n",
      " max error: -19.45140128108755 \n",
      " mean absolute error: 1.5439968625219833 \n",
      " r2: -0.2807581593184942 \n",
      " mean squared error: 13.136660981344615 \n",
      " ------------------------------\n",
      "Random Forest \n",
      " max error: -17.965876 \n",
      " mean absolute error: 1.1985889723171563 \n",
      " r2: 0.13486277453760706 \n",
      " mean squared error: 9.771950986746067 \n",
      " ------------------------------\n",
      "LASSO \n",
      " max error: -16.64762381122294 \n",
      " mean absolute error: 1.6590501445436736 \n",
      " r2: 0.14678423594060402 \n",
      " mean squared error: 10.99687145642513 \n",
      " ------------------------------\n",
      "Ridge \n",
      " max error: -19.413080676112287 \n",
      " mean absolute error: 1.5433181410607208 \n",
      " r2: -0.27453207199364715 \n",
      " mean squared error: 13.093830170482661 \n",
      " ------------------------------\n",
      "Elastic Net \n",
      " max error: -16.35998003829875 \n",
      " mean absolute error: 1.5798287215980562 \n",
      " r2: 0.20560050962848414 \n",
      " mean squared error: 10.29251535687192 \n",
      " ------------------------------\n"
     ]
    }
   ],
   "source": [
    "for name, model in models:\n",
    "    kfold = KFold(n_splits=10, shuffle=True, random_state=42)\n",
    "    cv_results1 = cross_val_score(model, features3, target1, cv=kfold, scoring=max_error_scoring)\n",
    "    cv_results2 = cross_val_score(model, features3, target1, cv=kfold, scoring=neg_mean_absolute_error_scoring)\n",
    "    cv_results3 = cross_val_score(model, features3, target1, cv=kfold, scoring=r2_scoring)\n",
    "    cv_results4 = cross_val_score(model, features3, target1, cv=kfold, scoring=neg_mean_squared_error_scoring)\n",
    "    msg = f\"{name} \\n max error: {cv_results1.mean()} \\n mean absolute error: {-cv_results2.mean()} \\n r2: {cv_results3.mean()} \\n mean squared error: {-cv_results4.mean()}\"\n",
    "    print(msg, '\\n', '-' * 30)"
   ],
   "metadata": {
    "collapsed": false,
    "ExecuteTime": {
     "end_time": "2024-03-12T17:44:04.954103Z",
     "start_time": "2024-03-12T17:43:57.935233Z"
    }
   },
   "id": "56de3fe3826e6f17",
   "execution_count": 12
  },
  {
   "cell_type": "code",
   "outputs": [
    {
     "name": "stdout",
     "output_type": "stream",
     "text": [
      "Linear Regression \n",
      " max error: -14.354234258389813 \n",
      " mean absolute error: 1.3694199736668153 \n",
      " r2: -0.1559646571322277 \n",
      " mean squared error: 6.989121634827015 \n",
      " ------------------------------\n",
      "Random Forest \n",
      " max error: -11.434987999999997 \n",
      " mean absolute error: 1.0922518807245385 \n",
      " r2: 0.35217835091360444 \n",
      " mean squared error: 4.088491142227208 \n",
      " ------------------------------\n",
      "LASSO \n",
      " max error: -12.741571190936607 \n",
      " mean absolute error: 1.5286362215590423 \n",
      " r2: 0.06481102905448019 \n",
      " mean squared error: 6.120618850579074 \n",
      " ------------------------------\n",
      "Ridge \n",
      " max error: -14.331851347786857 \n",
      " mean absolute error: 1.369146936741455 \n",
      " r2: -0.15116063602764424 \n",
      " mean squared error: 6.963622422129726 \n",
      " ------------------------------\n",
      "Elastic Net \n",
      " max error: -12.061360662217904 \n",
      " mean absolute error: 1.432715990448495 \n",
      " r2: 0.15645339919918838 \n",
      " mean squared error: 5.520804236922848 \n",
      " ------------------------------\n"
     ]
    }
   ],
   "source": [
    "for name, model in models:\n",
    "    kfold = KFold(n_splits=10, shuffle=True, random_state=42)\n",
    "    cv_results1 = cross_val_score(model, features3, target2, cv=kfold, scoring=max_error_scoring)\n",
    "    cv_results2 = cross_val_score(model, features3, target2, cv=kfold, scoring=neg_mean_absolute_error_scoring)\n",
    "    cv_results3 = cross_val_score(model, features3, target2, cv=kfold, scoring=r2_scoring)\n",
    "    cv_results4 = cross_val_score(model, features3, target2, cv=kfold, scoring=neg_mean_squared_error_scoring)\n",
    "    msg = f\"{name} \\n max error: {cv_results1.mean()} \\n mean absolute error: {-cv_results2.mean()} \\n r2: {cv_results3.mean()} \\n mean squared error: {-cv_results4.mean()}\"\n",
    "    print(msg, '\\n', '-' * 30)"
   ],
   "metadata": {
    "collapsed": false,
    "ExecuteTime": {
     "end_time": "2024-03-12T17:44:11.919369Z",
     "start_time": "2024-03-12T17:44:04.954738Z"
    }
   },
   "id": "dc38e27a015c8cae",
   "execution_count": 13
  },
  {
   "cell_type": "code",
   "outputs": [
    {
     "name": "stdout",
     "output_type": "stream",
     "text": [
      "Linear Regression \n",
      " max error: -24.91211130859351 \n",
      " mean absolute error: 1.7160896668934384 \n",
      " r2: -0.3882739476378915 \n",
      " mean squared error: 21.47218355665885 \n",
      " ------------------------------\n",
      "Random Forest \n",
      " max error: -25.452605000000005 \n",
      " mean absolute error: 1.4103544429254955 \n",
      " r2: -0.2980253890623238 \n",
      " mean squared error: 20.841186260219256 \n",
      " ------------------------------\n",
      "LASSO \n",
      " max error: -21.36451264422653 \n",
      " mean absolute error: 1.7695203541808275 \n",
      " r2: 0.16059714741852166 \n",
      " mean squared error: 18.40208851360247 \n",
      " ------------------------------\n",
      "Ridge \n",
      " max error: -24.86538093641748 \n",
      " mean absolute error: 1.7150452454378908 \n",
      " r2: -0.3814267011433234 \n",
      " mean squared error: 21.415878532101363 \n",
      " ------------------------------\n",
      "Elastic Net \n",
      " max error: -21.256879087533274 \n",
      " mean absolute error: 1.7045670626861493 \n",
      " r2: 0.20317407574629492 \n",
      " mean squared error: 17.577509548339755 \n",
      " ------------------------------\n"
     ]
    }
   ],
   "source": [
    "for name, model in models:\n",
    "    kfold = KFold(n_splits=10, shuffle=True, random_state=42)\n",
    "    cv_results1 = cross_val_score(model, features3, target3, cv=kfold, scoring=max_error_scoring)\n",
    "    cv_results2 = cross_val_score(model, features3, target3, cv=kfold, scoring=neg_mean_absolute_error_scoring)\n",
    "    cv_results3 = cross_val_score(model, features3, target3, cv=kfold, scoring=r2_scoring)\n",
    "    cv_results4 = cross_val_score(model, features3, target3, cv=kfold, scoring=neg_mean_squared_error_scoring)\n",
    "    msg = f\"{name} \\n max error: {cv_results1.mean()} \\n mean absolute error: {-cv_results2.mean()} \\n r2: {cv_results3.mean()} \\n mean squared error: {-cv_results4.mean()}\"\n",
    "    print(msg, '\\n', '-' * 30)"
   ],
   "metadata": {
    "collapsed": false,
    "ExecuteTime": {
     "end_time": "2024-03-12T17:44:19.042005Z",
     "start_time": "2024-03-12T17:44:11.920059Z"
    }
   },
   "id": "4e72901f15b3b1ec",
   "execution_count": 14
  }
 ],
 "metadata": {
  "kernelspec": {
   "display_name": "Python 3",
   "language": "python",
   "name": "python3"
  },
  "language_info": {
   "codemirror_mode": {
    "name": "ipython",
    "version": 2
   },
   "file_extension": ".py",
   "mimetype": "text/x-python",
   "name": "python",
   "nbconvert_exporter": "python",
   "pygments_lexer": "ipython2",
   "version": "2.7.6"
  }
 },
 "nbformat": 4,
 "nbformat_minor": 5
}
