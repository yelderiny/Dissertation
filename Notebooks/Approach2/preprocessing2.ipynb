{
 "cells": [
  {
   "cell_type": "code",
   "execution_count": 1,
   "id": "initial_id",
   "metadata": {
    "collapsed": true,
    "ExecuteTime": {
     "end_time": "2024-03-12T17:42:54.085069Z",
     "start_time": "2024-03-12T17:42:54.035836Z"
    }
   },
   "outputs": [],
   "source": [
    "import pandas as pd\n",
    "from sklearn.preprocessing import StandardScaler"
   ]
  },
  {
   "cell_type": "code",
   "outputs": [],
   "source": [
    "df = pd.read_csv('/Users/yelderiny/Projects/Dissertation/Data/project-data-swift.csv', index_col=[0])"
   ],
   "metadata": {
    "collapsed": false,
    "ExecuteTime": {
     "end_time": "2024-03-12T17:42:54.090451Z",
     "start_time": "2024-03-12T17:42:54.085763Z"
    }
   },
   "id": "93e324531261a482",
   "execution_count": 2
  },
  {
   "cell_type": "code",
   "outputs": [],
   "source": [
    "features = df.drop(columns=['name', 'pr_points1', 'pr_points2', 'pr_points3'], axis=1)\n",
    "target = df[['pr_points1', 'pr_points2', 'pr_points3']]"
   ],
   "metadata": {
    "collapsed": false,
    "ExecuteTime": {
     "end_time": "2024-03-12T17:42:54.093624Z",
     "start_time": "2024-03-12T17:42:54.091204Z"
    }
   },
   "id": "6fec7ca5e7821197",
   "execution_count": 3
  },
  {
   "cell_type": "code",
   "outputs": [
    {
     "data": {
      "text/plain": "   pull_requests   size  contributors   age  contributor_xp1  contributor_xp2  \\\n0           2212  13528           394  3489            8.111            7.571   \n0            555  34100           240  3503            3.308            3.157   \n0            607  14104           237  2171           14.784           13.679   \n0            146  29842            70  1522            3.688            3.708   \n0             20  16233           336  1988            6.468            5.999   \n\n   contributor_xp3  \n0            7.578  \n0            2.712  \n0            9.193  \n0            4.052  \n0            5.624  ",
      "text/html": "<div>\n<style scoped>\n    .dataframe tbody tr th:only-of-type {\n        vertical-align: middle;\n    }\n\n    .dataframe tbody tr th {\n        vertical-align: top;\n    }\n\n    .dataframe thead th {\n        text-align: right;\n    }\n</style>\n<table border=\"1\" class=\"dataframe\">\n  <thead>\n    <tr style=\"text-align: right;\">\n      <th></th>\n      <th>pull_requests</th>\n      <th>size</th>\n      <th>contributors</th>\n      <th>age</th>\n      <th>contributor_xp1</th>\n      <th>contributor_xp2</th>\n      <th>contributor_xp3</th>\n    </tr>\n  </thead>\n  <tbody>\n    <tr>\n      <th>0</th>\n      <td>2212</td>\n      <td>13528</td>\n      <td>394</td>\n      <td>3489</td>\n      <td>8.111</td>\n      <td>7.571</td>\n      <td>7.578</td>\n    </tr>\n    <tr>\n      <th>0</th>\n      <td>555</td>\n      <td>34100</td>\n      <td>240</td>\n      <td>3503</td>\n      <td>3.308</td>\n      <td>3.157</td>\n      <td>2.712</td>\n    </tr>\n    <tr>\n      <th>0</th>\n      <td>607</td>\n      <td>14104</td>\n      <td>237</td>\n      <td>2171</td>\n      <td>14.784</td>\n      <td>13.679</td>\n      <td>9.193</td>\n    </tr>\n    <tr>\n      <th>0</th>\n      <td>146</td>\n      <td>29842</td>\n      <td>70</td>\n      <td>1522</td>\n      <td>3.688</td>\n      <td>3.708</td>\n      <td>4.052</td>\n    </tr>\n    <tr>\n      <th>0</th>\n      <td>20</td>\n      <td>16233</td>\n      <td>336</td>\n      <td>1988</td>\n      <td>6.468</td>\n      <td>5.999</td>\n      <td>5.624</td>\n    </tr>\n  </tbody>\n</table>\n</div>"
     },
     "execution_count": 4,
     "metadata": {},
     "output_type": "execute_result"
    }
   ],
   "source": [
    "numeric_features = features.drop(columns=['language'], axis=1)\n",
    "categorical_features = features[['language']].copy()\n",
    "numeric_features.head()"
   ],
   "metadata": {
    "collapsed": false,
    "ExecuteTime": {
     "end_time": "2024-03-12T17:42:54.100580Z",
     "start_time": "2024-03-12T17:42:54.094237Z"
    }
   },
   "id": "2e2da3f50f479fa3",
   "execution_count": 4
  },
  {
   "cell_type": "code",
   "outputs": [
    {
     "data": {
      "text/plain": "       pull_requests          size  contributors           age  \\\ncount   7.690000e+02  7.690000e+02  7.690000e+02  7.690000e+02   \nmean    4.619914e-17 -9.239828e-18 -3.695931e-17 -1.847966e-17   \nstd     1.000651e+00  1.000651e+00  1.000651e+00  1.000651e+00   \nmin    -4.099307e-01 -6.334905e-01 -6.161199e-01 -1.795992e+00   \n25%    -3.588485e-01 -5.856577e-01 -4.422816e-01 -7.872225e-01   \n50%    -2.566842e-01 -4.345574e-01 -2.974164e-01 -4.494160e-02   \n75%    -3.532798e-02  1.556344e-01  5.026013e-02  6.733209e-01   \nmax     1.837980e+01  5.135630e+00  1.077029e+01  4.077062e+00   \n\n       contributor_xp1  contributor_xp2  contributor_xp3  \ncount     7.690000e+02     7.690000e+02     7.690000e+02  \nmean     -5.543897e-17     5.543897e-17    -3.141541e-16  \nstd       1.000651e+00     1.000651e+00     1.000651e+00  \nmin      -1.353308e+00    -1.387160e+00    -1.548063e+00  \n25%      -6.125365e-01    -6.209715e-01    -6.443588e-01  \n50%      -2.538939e-01    -2.523988e-01    -2.609127e-01  \n75%       3.275515e-01     3.174022e-01     3.552069e-01  \nmax       8.165638e+00     8.127271e+00     7.803554e+00  ",
      "text/html": "<div>\n<style scoped>\n    .dataframe tbody tr th:only-of-type {\n        vertical-align: middle;\n    }\n\n    .dataframe tbody tr th {\n        vertical-align: top;\n    }\n\n    .dataframe thead th {\n        text-align: right;\n    }\n</style>\n<table border=\"1\" class=\"dataframe\">\n  <thead>\n    <tr style=\"text-align: right;\">\n      <th></th>\n      <th>pull_requests</th>\n      <th>size</th>\n      <th>contributors</th>\n      <th>age</th>\n      <th>contributor_xp1</th>\n      <th>contributor_xp2</th>\n      <th>contributor_xp3</th>\n    </tr>\n  </thead>\n  <tbody>\n    <tr>\n      <th>count</th>\n      <td>7.690000e+02</td>\n      <td>7.690000e+02</td>\n      <td>7.690000e+02</td>\n      <td>7.690000e+02</td>\n      <td>7.690000e+02</td>\n      <td>7.690000e+02</td>\n      <td>7.690000e+02</td>\n    </tr>\n    <tr>\n      <th>mean</th>\n      <td>4.619914e-17</td>\n      <td>-9.239828e-18</td>\n      <td>-3.695931e-17</td>\n      <td>-1.847966e-17</td>\n      <td>-5.543897e-17</td>\n      <td>5.543897e-17</td>\n      <td>-3.141541e-16</td>\n    </tr>\n    <tr>\n      <th>std</th>\n      <td>1.000651e+00</td>\n      <td>1.000651e+00</td>\n      <td>1.000651e+00</td>\n      <td>1.000651e+00</td>\n      <td>1.000651e+00</td>\n      <td>1.000651e+00</td>\n      <td>1.000651e+00</td>\n    </tr>\n    <tr>\n      <th>min</th>\n      <td>-4.099307e-01</td>\n      <td>-6.334905e-01</td>\n      <td>-6.161199e-01</td>\n      <td>-1.795992e+00</td>\n      <td>-1.353308e+00</td>\n      <td>-1.387160e+00</td>\n      <td>-1.548063e+00</td>\n    </tr>\n    <tr>\n      <th>25%</th>\n      <td>-3.588485e-01</td>\n      <td>-5.856577e-01</td>\n      <td>-4.422816e-01</td>\n      <td>-7.872225e-01</td>\n      <td>-6.125365e-01</td>\n      <td>-6.209715e-01</td>\n      <td>-6.443588e-01</td>\n    </tr>\n    <tr>\n      <th>50%</th>\n      <td>-2.566842e-01</td>\n      <td>-4.345574e-01</td>\n      <td>-2.974164e-01</td>\n      <td>-4.494160e-02</td>\n      <td>-2.538939e-01</td>\n      <td>-2.523988e-01</td>\n      <td>-2.609127e-01</td>\n    </tr>\n    <tr>\n      <th>75%</th>\n      <td>-3.532798e-02</td>\n      <td>1.556344e-01</td>\n      <td>5.026013e-02</td>\n      <td>6.733209e-01</td>\n      <td>3.275515e-01</td>\n      <td>3.174022e-01</td>\n      <td>3.552069e-01</td>\n    </tr>\n    <tr>\n      <th>max</th>\n      <td>1.837980e+01</td>\n      <td>5.135630e+00</td>\n      <td>1.077029e+01</td>\n      <td>4.077062e+00</td>\n      <td>8.165638e+00</td>\n      <td>8.127271e+00</td>\n      <td>7.803554e+00</td>\n    </tr>\n  </tbody>\n</table>\n</div>"
     },
     "execution_count": 5,
     "metadata": {},
     "output_type": "execute_result"
    }
   ],
   "source": [
    "scaler = StandardScaler()\n",
    "standardized_features = pd.DataFrame(scaler.fit_transform(numeric_features), columns=numeric_features.columns, index=numeric_features.index)\n",
    "standardized_features.describe()"
   ],
   "metadata": {
    "collapsed": false,
    "ExecuteTime": {
     "end_time": "2024-03-12T17:42:54.111541Z",
     "start_time": "2024-03-12T17:42:54.101163Z"
    }
   },
   "id": "4bdf96ef88fc1900",
   "execution_count": 5
  },
  {
   "cell_type": "code",
   "outputs": [
    {
     "data": {
      "text/plain": "   language_Swift\n0               1\n0               1\n0               1\n0               1\n0               1",
      "text/html": "<div>\n<style scoped>\n    .dataframe tbody tr th:only-of-type {\n        vertical-align: middle;\n    }\n\n    .dataframe tbody tr th {\n        vertical-align: top;\n    }\n\n    .dataframe thead th {\n        text-align: right;\n    }\n</style>\n<table border=\"1\" class=\"dataframe\">\n  <thead>\n    <tr style=\"text-align: right;\">\n      <th></th>\n      <th>language_Swift</th>\n    </tr>\n  </thead>\n  <tbody>\n    <tr>\n      <th>0</th>\n      <td>1</td>\n    </tr>\n    <tr>\n      <th>0</th>\n      <td>1</td>\n    </tr>\n    <tr>\n      <th>0</th>\n      <td>1</td>\n    </tr>\n    <tr>\n      <th>0</th>\n      <td>1</td>\n    </tr>\n    <tr>\n      <th>0</th>\n      <td>1</td>\n    </tr>\n  </tbody>\n</table>\n</div>"
     },
     "execution_count": 6,
     "metadata": {},
     "output_type": "execute_result"
    }
   ],
   "source": [
    "categorical_features = pd.get_dummies(categorical_features, columns=['language'], dtype=int)\n",
    "categorical_features.head()"
   ],
   "metadata": {
    "collapsed": false,
    "ExecuteTime": {
     "end_time": "2024-03-12T17:42:54.116192Z",
     "start_time": "2024-03-12T17:42:54.112158Z"
    }
   },
   "id": "2284cfd9033f04b2",
   "execution_count": 6
  },
  {
   "cell_type": "code",
   "outputs": [
    {
     "data": {
      "text/plain": "   pull_requests      size  contributors       age  contributor_xp1  \\\n0      18.379803  0.155634     10.770286  2.168176         3.477893   \n0       4.272604  1.358589      6.308438  2.184188         0.429114   \n0       4.715316  0.189316      6.221519  0.660740         7.713685   \n0       0.790501  1.109601      1.383020 -0.081541         0.670325   \n0      -0.282225  0.313810      9.089850  0.451437         2.434973   \n\n   contributor_xp2  contributor_xp3  language_Swift  pr_points1  pr_points2  \\\n0         3.502479         5.039391               1       9.103       6.588   \n0         0.450171         0.510633               1      18.562      12.360   \n0         7.726198         6.542463               1       9.241       7.153   \n0         0.831191         1.757763               1       5.286       4.150   \n0         2.415432         3.220815               1       1.811       2.087   \n\n   pr_points3  \n0      10.947  \n0      20.595  \n0       9.187  \n0       6.182  \n0       1.763  ",
      "text/html": "<div>\n<style scoped>\n    .dataframe tbody tr th:only-of-type {\n        vertical-align: middle;\n    }\n\n    .dataframe tbody tr th {\n        vertical-align: top;\n    }\n\n    .dataframe thead th {\n        text-align: right;\n    }\n</style>\n<table border=\"1\" class=\"dataframe\">\n  <thead>\n    <tr style=\"text-align: right;\">\n      <th></th>\n      <th>pull_requests</th>\n      <th>size</th>\n      <th>contributors</th>\n      <th>age</th>\n      <th>contributor_xp1</th>\n      <th>contributor_xp2</th>\n      <th>contributor_xp3</th>\n      <th>language_Swift</th>\n      <th>pr_points1</th>\n      <th>pr_points2</th>\n      <th>pr_points3</th>\n    </tr>\n  </thead>\n  <tbody>\n    <tr>\n      <th>0</th>\n      <td>18.379803</td>\n      <td>0.155634</td>\n      <td>10.770286</td>\n      <td>2.168176</td>\n      <td>3.477893</td>\n      <td>3.502479</td>\n      <td>5.039391</td>\n      <td>1</td>\n      <td>9.103</td>\n      <td>6.588</td>\n      <td>10.947</td>\n    </tr>\n    <tr>\n      <th>0</th>\n      <td>4.272604</td>\n      <td>1.358589</td>\n      <td>6.308438</td>\n      <td>2.184188</td>\n      <td>0.429114</td>\n      <td>0.450171</td>\n      <td>0.510633</td>\n      <td>1</td>\n      <td>18.562</td>\n      <td>12.360</td>\n      <td>20.595</td>\n    </tr>\n    <tr>\n      <th>0</th>\n      <td>4.715316</td>\n      <td>0.189316</td>\n      <td>6.221519</td>\n      <td>0.660740</td>\n      <td>7.713685</td>\n      <td>7.726198</td>\n      <td>6.542463</td>\n      <td>1</td>\n      <td>9.241</td>\n      <td>7.153</td>\n      <td>9.187</td>\n    </tr>\n    <tr>\n      <th>0</th>\n      <td>0.790501</td>\n      <td>1.109601</td>\n      <td>1.383020</td>\n      <td>-0.081541</td>\n      <td>0.670325</td>\n      <td>0.831191</td>\n      <td>1.757763</td>\n      <td>1</td>\n      <td>5.286</td>\n      <td>4.150</td>\n      <td>6.182</td>\n    </tr>\n    <tr>\n      <th>0</th>\n      <td>-0.282225</td>\n      <td>0.313810</td>\n      <td>9.089850</td>\n      <td>0.451437</td>\n      <td>2.434973</td>\n      <td>2.415432</td>\n      <td>3.220815</td>\n      <td>1</td>\n      <td>1.811</td>\n      <td>2.087</td>\n      <td>1.763</td>\n    </tr>\n  </tbody>\n</table>\n</div>"
     },
     "execution_count": 7,
     "metadata": {},
     "output_type": "execute_result"
    }
   ],
   "source": [
    "processed_data = pd.concat([standardized_features, categorical_features, target], axis=1, sort=False)\n",
    "processed_data.head()"
   ],
   "metadata": {
    "collapsed": false,
    "ExecuteTime": {
     "end_time": "2024-03-12T17:42:54.121535Z",
     "start_time": "2024-03-12T17:42:54.116742Z"
    }
   },
   "id": "c7c1a33a2a19f813",
   "execution_count": 7
  },
  {
   "cell_type": "code",
   "outputs": [],
   "source": [
    "processed_data.to_csv('/Users/yelderiny/Projects/Dissertation/Data/processed-data-swift.csv')"
   ],
   "metadata": {
    "collapsed": false,
    "ExecuteTime": {
     "end_time": "2024-03-12T17:42:54.129923Z",
     "start_time": "2024-03-12T17:42:54.122270Z"
    }
   },
   "id": "2727e3399b8b0760",
   "execution_count": 8
  }
 ],
 "metadata": {
  "kernelspec": {
   "display_name": "Python 3",
   "language": "python",
   "name": "python3"
  },
  "language_info": {
   "codemirror_mode": {
    "name": "ipython",
    "version": 2
   },
   "file_extension": ".py",
   "mimetype": "text/x-python",
   "name": "python",
   "nbconvert_exporter": "python",
   "pygments_lexer": "ipython2",
   "version": "2.7.6"
  }
 },
 "nbformat": 4,
 "nbformat_minor": 5
}
